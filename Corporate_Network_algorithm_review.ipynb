{
  "cells": [
    {
      "cell_type": "markdown",
      "metadata": {
        "id": "view-in-github",
        "colab_type": "text"
      },
      "source": [
        "<a href=\"https://colab.research.google.com/github/PKuznetsov-vl/corporate/blob/dev/Corporate_Network_algorithm_review.ipynb\" target=\"_parent\"><img src=\"https://colab.research.google.com/assets/colab-badge.svg\" alt=\"Open In Colab\"/></a>"
      ]
    },
    {
      "cell_type": "code",
      "execution_count": null,
      "metadata": {
        "colab": {
          "base_uri": "https://localhost:8080/"
        },
        "id": "AsSwzHFc92b0",
        "outputId": "21de3609-3ba7-48e0-c02d-d62a1188cb60",
        "pycharm": {
          "name": "#%%\n"
        }
      },
      "outputs": [
        {
          "output_type": "stream",
          "name": "stdout",
          "text": [
            "Looking in indexes: https://pypi.org/simple, https://us-python.pkg.dev/colab-wheels/public/simple/\n",
            "Requirement already satisfied: ipython-autotime in /usr/local/lib/python3.7/dist-packages (0.3.1)\n",
            "Requirement already satisfied: ipython in /usr/local/lib/python3.7/dist-packages (from ipython-autotime) (7.9.0)\n",
            "Requirement already satisfied: pexpect in /usr/local/lib/python3.7/dist-packages (from ipython->ipython-autotime) (4.8.0)\n",
            "Requirement already satisfied: pygments in /usr/local/lib/python3.7/dist-packages (from ipython->ipython-autotime) (2.6.1)\n",
            "Requirement already satisfied: traitlets>=4.2 in /usr/local/lib/python3.7/dist-packages (from ipython->ipython-autotime) (5.1.1)\n",
            "Requirement already satisfied: pickleshare in /usr/local/lib/python3.7/dist-packages (from ipython->ipython-autotime) (0.7.5)\n",
            "Requirement already satisfied: prompt-toolkit<2.1.0,>=2.0.0 in /usr/local/lib/python3.7/dist-packages (from ipython->ipython-autotime) (2.0.10)\n",
            "Requirement already satisfied: setuptools>=18.5 in /usr/local/lib/python3.7/dist-packages (from ipython->ipython-autotime) (57.4.0)\n",
            "Requirement already satisfied: decorator in /usr/local/lib/python3.7/dist-packages (from ipython->ipython-autotime) (4.4.2)\n",
            "Requirement already satisfied: backcall in /usr/local/lib/python3.7/dist-packages (from ipython->ipython-autotime) (0.2.0)\n",
            "Requirement already satisfied: jedi>=0.10 in /usr/local/lib/python3.7/dist-packages (from ipython->ipython-autotime) (0.18.1)\n",
            "Requirement already satisfied: parso<0.9.0,>=0.8.0 in /usr/local/lib/python3.7/dist-packages (from jedi>=0.10->ipython->ipython-autotime) (0.8.3)\n",
            "Requirement already satisfied: six>=1.9.0 in /usr/local/lib/python3.7/dist-packages (from prompt-toolkit<2.1.0,>=2.0.0->ipython->ipython-autotime) (1.15.0)\n",
            "Requirement already satisfied: wcwidth in /usr/local/lib/python3.7/dist-packages (from prompt-toolkit<2.1.0,>=2.0.0->ipython->ipython-autotime) (0.2.5)\n",
            "Requirement already satisfied: ptyprocess>=0.5 in /usr/local/lib/python3.7/dist-packages (from pexpect->ipython->ipython-autotime) (0.7.0)\n",
            "time: 1.05 s (started: 2022-08-31 23:02:13 +00:00)\n"
          ]
        }
      ],
      "source": [
        "!pip install ipython-autotime\n",
        "%reload_ext autotime\n",
        "import autotime\n",
        "import math\n",
        "import time\n",
        "import pandas as pd\n",
        "import numpy as np\n",
        "import gc\n",
        "from numpy import linalg as LA\n",
        "from google.colab import drive"
      ]
    },
    {
      "cell_type": "code",
      "execution_count": null,
      "metadata": {
        "colab": {
          "base_uri": "https://localhost:8080/"
        },
        "id": "I6Xjkw0TMKf4",
        "outputId": "a6e30e44-43d1-4cee-a5d8-af085f8891df",
        "pycharm": {
          "name": "#%%\n"
        }
      },
      "outputs": [
        {
          "output_type": "stream",
          "name": "stdout",
          "text": [
            "Drive already mounted at /content/drive; to attempt to forcibly remount, call drive.mount(\"/content/drive\", force_remount=True).\n",
            "time: 1.73 s (started: 2022-08-31 23:02:17 +00:00)\n"
          ]
        }
      ],
      "source": [
        "SH_MODE = 1 # only SH nodes are considered final holders\n",
        "LEVELS = 20 # this parameter should be equal or exceed the number of \"onion layers\" in data. 20 is a bit of overkill for safety\n",
        "\n",
        "autotime.TIME_FORMAT = '%d/%m/%Y %H:%M:%S'\n",
        "autotime.RUNNING_FORMAT = '{timespan} ({start})'\n",
        "autotime.FINISHED_FORMAT = '{timespan} ({start} ~ {end})'\n",
        "\n",
        "drive.mount('/content/drive')"
      ]
    },
    {
      "cell_type": "code",
      "execution_count": null,
      "metadata": {
        "colab": {
          "base_uri": "https://localhost:8080/"
        },
        "id": "xHi3jZtBDbEg",
        "outputId": "848891c8-c737-4868-da15-76e8255a512f",
        "pycharm": {
          "is_executing": true,
          "name": "#%%\n"
        }
      },
      "outputs": [
        {
          "output_type": "stream",
          "name": "stdout",
          "text": [
            "time: 25.3 s (started: 2022-08-31 23:02:21 +00:00)\n"
          ]
        }
      ],
      "source": [
        "path = '/content/drive/MyDrive/egrul_share.csv'\n",
        " \n",
        "data=pd.read_csv(path,usecols={'founder_inn', 'inn', 'capital_p'},\n",
        "               dtype={'founder_inn': str,'inn': str, 'capital_p':float})"
      ]
    },
    {
      "cell_type": "markdown",
      "metadata": {
        "id": "rJ8h2M-EP76I",
        "pycharm": {
          "name": "#%% md\n"
        }
      },
      "source": [
        "# Primary processing"
      ]
    },
    {
      "cell_type": "code",
      "execution_count": null,
      "metadata": {
        "colab": {
          "base_uri": "https://localhost:8080/"
        },
        "id": "c7KKhmXYNlzh",
        "outputId": "0e71432f-19f7-4808-94c7-9fd74093d33b",
        "pycharm": {
          "name": "#%%\n"
        }
      },
      "outputs": [
        {
          "output_type": "execute_result",
          "data": {
            "text/plain": [
              "(14491324, 3)"
            ]
          },
          "metadata": {},
          "execution_count": 9
        },
        {
          "output_type": "stream",
          "name": "stdout",
          "text": [
            "time: 5.52 ms (started: 2022-08-31 23:03:14 +00:00)\n"
          ]
        }
      ],
      "source": [
        "data.shape"
      ]
    },
    {
      "cell_type": "code",
      "execution_count": null,
      "metadata": {
        "colab": {
          "base_uri": "https://localhost:8080/",
          "height": 225
        },
        "id": "17LpqmDjNtyZ",
        "outputId": "3ffed5a1-fcaf-411b-bbf1-ef19e5b490cd",
        "pycharm": {
          "name": "#%%\n"
        }
      },
      "outputs": [
        {
          "output_type": "execute_result",
          "data": {
            "text/plain": [
              "  organisation_inn participant_id  equity_share\n",
              "0     041102756227     0408004361         100.0\n",
              "1     164300048548     1643005423          30.0\n",
              "2     164301176969     1643005423          10.0\n",
              "3     164302137200     1643005423          10.0\n",
              "4     164302594366     1643005423          20.0"
            ],
            "text/html": [
              "\n",
              "  <div id=\"df-922e3e2a-a3bc-469c-8583-6c092b8282d2\">\n",
              "    <div class=\"colab-df-container\">\n",
              "      <div>\n",
              "<style scoped>\n",
              "    .dataframe tbody tr th:only-of-type {\n",
              "        vertical-align: middle;\n",
              "    }\n",
              "\n",
              "    .dataframe tbody tr th {\n",
              "        vertical-align: top;\n",
              "    }\n",
              "\n",
              "    .dataframe thead th {\n",
              "        text-align: right;\n",
              "    }\n",
              "</style>\n",
              "<table border=\"1\" class=\"dataframe\">\n",
              "  <thead>\n",
              "    <tr style=\"text-align: right;\">\n",
              "      <th></th>\n",
              "      <th>organisation_inn</th>\n",
              "      <th>participant_id</th>\n",
              "      <th>equity_share</th>\n",
              "    </tr>\n",
              "  </thead>\n",
              "  <tbody>\n",
              "    <tr>\n",
              "      <th>0</th>\n",
              "      <td>041102756227</td>\n",
              "      <td>0408004361</td>\n",
              "      <td>100.0</td>\n",
              "    </tr>\n",
              "    <tr>\n",
              "      <th>1</th>\n",
              "      <td>164300048548</td>\n",
              "      <td>1643005423</td>\n",
              "      <td>30.0</td>\n",
              "    </tr>\n",
              "    <tr>\n",
              "      <th>2</th>\n",
              "      <td>164301176969</td>\n",
              "      <td>1643005423</td>\n",
              "      <td>10.0</td>\n",
              "    </tr>\n",
              "    <tr>\n",
              "      <th>3</th>\n",
              "      <td>164302137200</td>\n",
              "      <td>1643005423</td>\n",
              "      <td>10.0</td>\n",
              "    </tr>\n",
              "    <tr>\n",
              "      <th>4</th>\n",
              "      <td>164302594366</td>\n",
              "      <td>1643005423</td>\n",
              "      <td>20.0</td>\n",
              "    </tr>\n",
              "  </tbody>\n",
              "</table>\n",
              "</div>\n",
              "      <button class=\"colab-df-convert\" onclick=\"convertToInteractive('df-922e3e2a-a3bc-469c-8583-6c092b8282d2')\"\n",
              "              title=\"Convert this dataframe to an interactive table.\"\n",
              "              style=\"display:none;\">\n",
              "        \n",
              "  <svg xmlns=\"http://www.w3.org/2000/svg\" height=\"24px\"viewBox=\"0 0 24 24\"\n",
              "       width=\"24px\">\n",
              "    <path d=\"M0 0h24v24H0V0z\" fill=\"none\"/>\n",
              "    <path d=\"M18.56 5.44l.94 2.06.94-2.06 2.06-.94-2.06-.94-.94-2.06-.94 2.06-2.06.94zm-11 1L8.5 8.5l.94-2.06 2.06-.94-2.06-.94L8.5 2.5l-.94 2.06-2.06.94zm10 10l.94 2.06.94-2.06 2.06-.94-2.06-.94-.94-2.06-.94 2.06-2.06.94z\"/><path d=\"M17.41 7.96l-1.37-1.37c-.4-.4-.92-.59-1.43-.59-.52 0-1.04.2-1.43.59L10.3 9.45l-7.72 7.72c-.78.78-.78 2.05 0 2.83L4 21.41c.39.39.9.59 1.41.59.51 0 1.02-.2 1.41-.59l7.78-7.78 2.81-2.81c.8-.78.8-2.07 0-2.86zM5.41 20L4 18.59l7.72-7.72 1.47 1.35L5.41 20z\"/>\n",
              "  </svg>\n",
              "      </button>\n",
              "      \n",
              "  <style>\n",
              "    .colab-df-container {\n",
              "      display:flex;\n",
              "      flex-wrap:wrap;\n",
              "      gap: 12px;\n",
              "    }\n",
              "\n",
              "    .colab-df-convert {\n",
              "      background-color: #E8F0FE;\n",
              "      border: none;\n",
              "      border-radius: 50%;\n",
              "      cursor: pointer;\n",
              "      display: none;\n",
              "      fill: #1967D2;\n",
              "      height: 32px;\n",
              "      padding: 0 0 0 0;\n",
              "      width: 32px;\n",
              "    }\n",
              "\n",
              "    .colab-df-convert:hover {\n",
              "      background-color: #E2EBFA;\n",
              "      box-shadow: 0px 1px 2px rgba(60, 64, 67, 0.3), 0px 1px 3px 1px rgba(60, 64, 67, 0.15);\n",
              "      fill: #174EA6;\n",
              "    }\n",
              "\n",
              "    [theme=dark] .colab-df-convert {\n",
              "      background-color: #3B4455;\n",
              "      fill: #D2E3FC;\n",
              "    }\n",
              "\n",
              "    [theme=dark] .colab-df-convert:hover {\n",
              "      background-color: #434B5C;\n",
              "      box-shadow: 0px 1px 3px 1px rgba(0, 0, 0, 0.15);\n",
              "      filter: drop-shadow(0px 1px 2px rgba(0, 0, 0, 0.3));\n",
              "      fill: #FFFFFF;\n",
              "    }\n",
              "  </style>\n",
              "\n",
              "      <script>\n",
              "        const buttonEl =\n",
              "          document.querySelector('#df-922e3e2a-a3bc-469c-8583-6c092b8282d2 button.colab-df-convert');\n",
              "        buttonEl.style.display =\n",
              "          google.colab.kernel.accessAllowed ? 'block' : 'none';\n",
              "\n",
              "        async function convertToInteractive(key) {\n",
              "          const element = document.querySelector('#df-922e3e2a-a3bc-469c-8583-6c092b8282d2');\n",
              "          const dataTable =\n",
              "            await google.colab.kernel.invokeFunction('convertToInteractive',\n",
              "                                                     [key], {});\n",
              "          if (!dataTable) return;\n",
              "\n",
              "          const docLinkHtml = 'Like what you see? Visit the ' +\n",
              "            '<a target=\"_blank\" href=https://colab.research.google.com/notebooks/data_table.ipynb>data table notebook</a>'\n",
              "            + ' to learn more about interactive tables.';\n",
              "          element.innerHTML = '';\n",
              "          dataTable['output_type'] = 'display_data';\n",
              "          await google.colab.output.renderOutput(dataTable, element);\n",
              "          const docLink = document.createElement('div');\n",
              "          docLink.innerHTML = docLinkHtml;\n",
              "          element.appendChild(docLink);\n",
              "        }\n",
              "      </script>\n",
              "    </div>\n",
              "  </div>\n",
              "  "
            ]
          },
          "metadata": {},
          "execution_count": 10
        },
        {
          "output_type": "stream",
          "name": "stdout",
          "text": [
            "time: 5.45 s (started: 2022-08-31 23:03:15 +00:00)\n"
          ]
        }
      ],
      "source": [
        "# Remove missing values\n",
        "data = data.dropna()\n",
        "\n",
        "data = data.rename(columns={\"founder_inn\": \"organisation_inn\",\n",
        "                            'inn': 'participant_id',\n",
        "                            'capital_p': 'equity_share'})\n",
        "\n",
        "# columns are renamed for consistency with further code\n",
        "# data=data[['organisation_inn','participant_id','equity_share']]\n",
        "\n",
        "# data = data[data['equity_share'] > 0]\n",
        "# data = data[data.participant_id != data.organisation_inn]\n",
        "\n",
        "\n",
        "data= data[(data['equity_share'] > 0 )&\n",
        "          (data.participant_id != data.organisation_inn)]\n",
        "data.head()"
      ]
    },
    {
      "cell_type": "code",
      "execution_count": null,
      "metadata": {
        "colab": {
          "base_uri": "https://localhost:8080/",
          "height": 288
        },
        "id": "ZGky7on5Px4L",
        "outputId": "cf7189c9-7e7d-4e5e-a758-519e378ed588",
        "pycharm": {
          "name": "#%%\n"
        }
      },
      "outputs": [
        {
          "output_type": "error",
          "ename": "ValueError",
          "evalue": "ignored",
          "traceback": [
            "\u001b[0;31m---------------------------------------------------------------------------\u001b[0m",
            "\u001b[0;31mValueError\u001b[0m                                Traceback (most recent call last)",
            "\u001b[0;32m<ipython-input-13-c226cc601262>\u001b[0m in \u001b[0;36m<module>\u001b[0;34m\u001b[0m\n\u001b[1;32m      1\u001b[0m \u001b[0;31m# normalization of in-edge weights to 1\u001b[0m\u001b[0;34m\u001b[0m\u001b[0;34m\u001b[0m\u001b[0;34m\u001b[0m\u001b[0m\n\u001b[1;32m      2\u001b[0m \u001b[0mgdata\u001b[0m \u001b[0;34m=\u001b[0m \u001b[0mdata\u001b[0m\u001b[0;34m.\u001b[0m\u001b[0mgroupby\u001b[0m\u001b[0;34m(\u001b[0m\u001b[0;34m'organisation_inn'\u001b[0m\u001b[0;34m)\u001b[0m\u001b[0;34m.\u001b[0m\u001b[0msum\u001b[0m\u001b[0;34m(\u001b[0m\u001b[0;34m)\u001b[0m\u001b[0;34m.\u001b[0m\u001b[0mreset_index\u001b[0m\u001b[0;34m(\u001b[0m\u001b[0;34m)\u001b[0m\u001b[0;34m\u001b[0m\u001b[0;34m\u001b[0m\u001b[0m\n\u001b[0;32m----> 3\u001b[0;31m \u001b[0mdict_companies\u001b[0m \u001b[0;34m=\u001b[0m \u001b[0mdict\u001b[0m\u001b[0;34m(\u001b[0m\u001b[0mgdata\u001b[0m\u001b[0;34m.\u001b[0m\u001b[0mvalues\u001b[0m\u001b[0;34m)\u001b[0m\u001b[0;34m\u001b[0m\u001b[0;34m\u001b[0m\u001b[0m\n\u001b[0m\u001b[1;32m      4\u001b[0m \u001b[0mdata\u001b[0m\u001b[0;34m[\u001b[0m\u001b[0;34m'equity_share'\u001b[0m\u001b[0;34m]\u001b[0m \u001b[0;34m=\u001b[0m \u001b[0mdata\u001b[0m\u001b[0;34m[\u001b[0m\u001b[0;34m'equity_share'\u001b[0m\u001b[0;34m]\u001b[0m\u001b[0;34m/\u001b[0m\u001b[0mnp\u001b[0m\u001b[0;34m.\u001b[0m\u001b[0marray\u001b[0m\u001b[0;34m(\u001b[0m\u001b[0;34m[\u001b[0m\u001b[0mdict_companies\u001b[0m\u001b[0;34m[\u001b[0m\u001b[0mnum\u001b[0m\u001b[0;34m]\u001b[0m \u001b[0;32mfor\u001b[0m \u001b[0mnum\u001b[0m \u001b[0;32min\u001b[0m \u001b[0mdata\u001b[0m\u001b[0;34m[\u001b[0m\u001b[0;34m'organisation_inn'\u001b[0m\u001b[0;34m]\u001b[0m\u001b[0;34m]\u001b[0m\u001b[0;34m)\u001b[0m\u001b[0;34m\u001b[0m\u001b[0;34m\u001b[0m\u001b[0m\n",
            "\u001b[0;31mValueError\u001b[0m: dictionary update sequence element #0 has length 4; 2 is required"
          ]
        },
        {
          "output_type": "stream",
          "name": "stdout",
          "text": [
            "time: 32.8 s (started: 2022-08-31 23:07:01 +00:00)\n"
          ]
        }
      ],
      "source": [
        "# normalization of in-edge weights to 1\n",
        "gdata = data.groupby('organisation_inn').sum().reset_index()\n",
        "dict_companies = dict(gdata.values)\n",
        "data['equity_share'] = data['equity_share']/np.array([dict_companies[num] for num in data['organisation_inn']])"
      ]
    },
    {
      "cell_type": "code",
      "execution_count": null,
      "metadata": {
        "colab": {
          "base_uri": "https://localhost:8080/"
        },
        "id": "ERb_chKFQFW4",
        "outputId": "941b0585-1e7b-41fb-bf33-3e6d9f74f78f",
        "pycharm": {
          "name": "#%%\n"
        }
      },
      "outputs": [
        {
          "output_type": "stream",
          "name": "stdout",
          "text": [
            "time: 13.9 s (started: 2022-08-31 23:04:25 +00:00)\n"
          ]
        }
      ],
      "source": [
        "# finding SH and ST nodes\n",
        "data['super_holder']=~pd.Series(data.participant_id).isin(data.organisation_inn)\n",
        "data['super_target']=~pd.Series(data.organisation_inn).isin(data.participant_id)"
      ]
    },
    {
      "cell_type": "code",
      "execution_count": null,
      "metadata": {
        "colab": {
          "base_uri": "https://localhost:8080/",
          "height": 225
        },
        "id": "rudNHHv6QGMO",
        "outputId": "7ffc15ba-fd70-405f-a133-eafe2d03f499",
        "pycharm": {
          "name": "#%%\n"
        }
      },
      "outputs": [
        {
          "output_type": "execute_result",
          "data": {
            "text/plain": [
              "  organisation_inn participant_id  equity_share\n",
              "0     041102756227     0408004361      0.186916\n",
              "1     164300048548     1643005423      0.666667\n",
              "2     164301176969     1643005423      1.000000\n",
              "3     164302137200     1643005423      1.000000\n",
              "4     164302594366     1643005423      0.064781"
            ],
            "text/html": [
              "\n",
              "  <div id=\"df-54e572b4-927c-42a6-9612-fd28a518b6c0\">\n",
              "    <div class=\"colab-df-container\">\n",
              "      <div>\n",
              "<style scoped>\n",
              "    .dataframe tbody tr th:only-of-type {\n",
              "        vertical-align: middle;\n",
              "    }\n",
              "\n",
              "    .dataframe tbody tr th {\n",
              "        vertical-align: top;\n",
              "    }\n",
              "\n",
              "    .dataframe thead th {\n",
              "        text-align: right;\n",
              "    }\n",
              "</style>\n",
              "<table border=\"1\" class=\"dataframe\">\n",
              "  <thead>\n",
              "    <tr style=\"text-align: right;\">\n",
              "      <th></th>\n",
              "      <th>organisation_inn</th>\n",
              "      <th>participant_id</th>\n",
              "      <th>equity_share</th>\n",
              "    </tr>\n",
              "  </thead>\n",
              "  <tbody>\n",
              "    <tr>\n",
              "      <th>0</th>\n",
              "      <td>041102756227</td>\n",
              "      <td>0408004361</td>\n",
              "      <td>0.186916</td>\n",
              "    </tr>\n",
              "    <tr>\n",
              "      <th>1</th>\n",
              "      <td>164300048548</td>\n",
              "      <td>1643005423</td>\n",
              "      <td>0.666667</td>\n",
              "    </tr>\n",
              "    <tr>\n",
              "      <th>2</th>\n",
              "      <td>164301176969</td>\n",
              "      <td>1643005423</td>\n",
              "      <td>1.000000</td>\n",
              "    </tr>\n",
              "    <tr>\n",
              "      <th>3</th>\n",
              "      <td>164302137200</td>\n",
              "      <td>1643005423</td>\n",
              "      <td>1.000000</td>\n",
              "    </tr>\n",
              "    <tr>\n",
              "      <th>4</th>\n",
              "      <td>164302594366</td>\n",
              "      <td>1643005423</td>\n",
              "      <td>0.064781</td>\n",
              "    </tr>\n",
              "  </tbody>\n",
              "</table>\n",
              "</div>\n",
              "      <button class=\"colab-df-convert\" onclick=\"convertToInteractive('df-54e572b4-927c-42a6-9612-fd28a518b6c0')\"\n",
              "              title=\"Convert this dataframe to an interactive table.\"\n",
              "              style=\"display:none;\">\n",
              "        \n",
              "  <svg xmlns=\"http://www.w3.org/2000/svg\" height=\"24px\"viewBox=\"0 0 24 24\"\n",
              "       width=\"24px\">\n",
              "    <path d=\"M0 0h24v24H0V0z\" fill=\"none\"/>\n",
              "    <path d=\"M18.56 5.44l.94 2.06.94-2.06 2.06-.94-2.06-.94-.94-2.06-.94 2.06-2.06.94zm-11 1L8.5 8.5l.94-2.06 2.06-.94-2.06-.94L8.5 2.5l-.94 2.06-2.06.94zm10 10l.94 2.06.94-2.06 2.06-.94-2.06-.94-.94-2.06-.94 2.06-2.06.94z\"/><path d=\"M17.41 7.96l-1.37-1.37c-.4-.4-.92-.59-1.43-.59-.52 0-1.04.2-1.43.59L10.3 9.45l-7.72 7.72c-.78.78-.78 2.05 0 2.83L4 21.41c.39.39.9.59 1.41.59.51 0 1.02-.2 1.41-.59l7.78-7.78 2.81-2.81c.8-.78.8-2.07 0-2.86zM5.41 20L4 18.59l7.72-7.72 1.47 1.35L5.41 20z\"/>\n",
              "  </svg>\n",
              "      </button>\n",
              "      \n",
              "  <style>\n",
              "    .colab-df-container {\n",
              "      display:flex;\n",
              "      flex-wrap:wrap;\n",
              "      gap: 12px;\n",
              "    }\n",
              "\n",
              "    .colab-df-convert {\n",
              "      background-color: #E8F0FE;\n",
              "      border: none;\n",
              "      border-radius: 50%;\n",
              "      cursor: pointer;\n",
              "      display: none;\n",
              "      fill: #1967D2;\n",
              "      height: 32px;\n",
              "      padding: 0 0 0 0;\n",
              "      width: 32px;\n",
              "    }\n",
              "\n",
              "    .colab-df-convert:hover {\n",
              "      background-color: #E2EBFA;\n",
              "      box-shadow: 0px 1px 2px rgba(60, 64, 67, 0.3), 0px 1px 3px 1px rgba(60, 64, 67, 0.15);\n",
              "      fill: #174EA6;\n",
              "    }\n",
              "\n",
              "    [theme=dark] .colab-df-convert {\n",
              "      background-color: #3B4455;\n",
              "      fill: #D2E3FC;\n",
              "    }\n",
              "\n",
              "    [theme=dark] .colab-df-convert:hover {\n",
              "      background-color: #434B5C;\n",
              "      box-shadow: 0px 1px 3px 1px rgba(0, 0, 0, 0.15);\n",
              "      filter: drop-shadow(0px 1px 2px rgba(0, 0, 0, 0.3));\n",
              "      fill: #FFFFFF;\n",
              "    }\n",
              "  </style>\n",
              "\n",
              "      <script>\n",
              "        const buttonEl =\n",
              "          document.querySelector('#df-54e572b4-927c-42a6-9612-fd28a518b6c0 button.colab-df-convert');\n",
              "        buttonEl.style.display =\n",
              "          google.colab.kernel.accessAllowed ? 'block' : 'none';\n",
              "\n",
              "        async function convertToInteractive(key) {\n",
              "          const element = document.querySelector('#df-54e572b4-927c-42a6-9612-fd28a518b6c0');\n",
              "          const dataTable =\n",
              "            await google.colab.kernel.invokeFunction('convertToInteractive',\n",
              "                                                     [key], {});\n",
              "          if (!dataTable) return;\n",
              "\n",
              "          const docLinkHtml = 'Like what you see? Visit the ' +\n",
              "            '<a target=\"_blank\" href=https://colab.research.google.com/notebooks/data_table.ipynb>data table notebook</a>'\n",
              "            + ' to learn more about interactive tables.';\n",
              "          element.innerHTML = '';\n",
              "          dataTable['output_type'] = 'display_data';\n",
              "          await google.colab.output.renderOutput(dataTable, element);\n",
              "          const docLink = document.createElement('div');\n",
              "          docLink.innerHTML = docLinkHtml;\n",
              "          element.appendChild(docLink);\n",
              "        }\n",
              "      </script>\n",
              "    </div>\n",
              "  </div>\n",
              "  "
            ]
          },
          "metadata": {},
          "execution_count": 94
        },
        {
          "output_type": "stream",
          "name": "stdout",
          "text": [
            "time: 18.5 ms (started: 2022-08-31 22:49:32 +00:00)\n"
          ]
        }
      ],
      "source": [
        "data.head()"
      ]
    },
    {
      "cell_type": "markdown",
      "metadata": {
        "id": "hv4KTpwAQHzv",
        "pycharm": {
          "name": "#%% md\n"
        }
      },
      "source": [
        "# Edges analysis"
      ]
    },
    {
      "cell_type": "code",
      "execution_count": null,
      "metadata": {
        "colab": {
          "base_uri": "https://localhost:8080/"
        },
        "id": "E0-8s-LsTND7",
        "outputId": "d2ab4c48-825a-4320-b5e1-7d97fc4e11a0",
        "pycharm": {
          "name": "#%%\n"
        }
      },
      "outputs": [
        {
          "output_type": "stream",
          "name": "stdout",
          "text": [
            "total edges: 11709364\n",
            "SH -> ST edges 10921658 (93.27%)\n",
            "SH -> ~ST edges 360609 (3.08%)\n",
            "~SH -> ST edges 376662 (3.22%)\n",
            "~SH -> ~ST edges 50435 (0.43%)\n",
            "time: 1.18 s (started: 2022-08-31 22:37:31 +00:00)\n"
          ]
        }
      ],
      "source": [
        "e = len(data)\n",
        "e1 = len(data[(data['super_holder'] == True) & (data['super_target'] == True)])\n",
        "e2 = len(data[(data['super_holder'] == True) & (data['super_target'] == False)])\n",
        "e3 = len(data[(data['super_holder'] == False) & (data['super_target'] == True)])\n",
        "e4 = len(data[(data['super_holder'] == False) & (data['super_target'] == False)])\n",
        "print('total edges:', e)\n",
        "print('SH -> ST edges', e1, '({0:.2f}%)'.format(e1/e*100))\n",
        "print('SH -> ~ST edges', e2, '({0:.2f}%)'.format(e2/e*100))\n",
        "print('~SH -> ST edges', e3, '({0:.2f}%)'.format(e3/e*100))\n",
        "print('~SH -> ~ST edges', e4, '({0:.2f}%)'.format(e4/e*100))"
      ]
    },
    {
      "cell_type": "markdown",
      "metadata": {
        "id": "b9CRgWuyTWOt",
        "pycharm": {
          "name": "#%% md\n"
        }
      },
      "source": [
        "# Network analysis"
      ]
    },
    {
      "cell_type": "markdown",
      "metadata": {
        "id": "6IXD375KTXPy",
        "pycharm": {
          "name": "#%% md\n"
        }
      },
      "source": [
        "## Core creation"
      ]
    },
    {
      "cell_type": "code",
      "execution_count": null,
      "metadata": {
        "colab": {
          "base_uri": "https://localhost:8080/"
        },
        "id": "nTQUmFegTZMk",
        "outputId": "febb1df8-2f07-4b97-b2f4-212bdfa860a6",
        "pycharm": {
          "name": "#%%\n"
        }
      },
      "outputs": [
        {
          "output_type": "stream",
          "name": "stdout",
          "text": [
            "pruning SH and ST nodes of the external layer...\n",
            "layer 1: 50435 edges left\n",
            "current SH 23773\n",
            "current ST 21961\n",
            "layer 2: 10539 edges left\n",
            "current SH 1942\n",
            "current ST 1560\n",
            "layer 3: 7117 edges left\n",
            "current SH 346\n",
            "current ST 277\n",
            "layer 4: 6421 edges left\n",
            "current SH 122\n",
            "current ST 92\n",
            "layer 5: 6169 edges left\n",
            "current SH 64\n",
            "current ST 27\n",
            "layer 6: 6038 edges left\n",
            "current SH 34\n",
            "current ST 13\n",
            "layer 7: 5973 edges left\n",
            "current SH 26\n",
            "current ST 3\n",
            "layer 8: 5931 edges left\n",
            "current SH 24\n",
            "current ST 4\n",
            "layer 9: 5889 edges left\n",
            "current SH 18\n",
            "current ST 3\n",
            "layer 10: 5854 edges left\n",
            "current SH 15\n",
            "current ST 4\n",
            "layer 11: 5824 edges left\n",
            "current SH 11\n",
            "current ST 3\n",
            "layer 12: 5808 edges left\n",
            "current SH 6\n",
            "current ST 4\n",
            "layer 13: 5796 edges left\n",
            "current SH 6\n",
            "current ST 2\n",
            "layer 14: 5783 edges left\n",
            "current SH 5\n",
            "current ST 3\n",
            "layer 15: 5773 edges left\n",
            "current SH 4\n",
            "current ST 1\n",
            "layer 16: 5763 edges left\n",
            "current SH 2\n",
            "current ST 1\n",
            "layer 17: 5759 edges left\n",
            "current SH 2\n",
            "current ST 0\n",
            "layer 18: 5756 edges left\n",
            "current SH 3\n",
            "current ST 0\n",
            "layer 19: 5753 edges left\n",
            "current SH 1\n",
            "current ST 0\n",
            "layer 20: 5751 edges left\n",
            "unique core holders: 4264\n",
            "unique core targets: 4262\n",
            "time: 910 ms (started: 2022-08-31 22:24:57 +00:00)\n"
          ]
        }
      ],
      "source": [
        "print('pruning SH and ST nodes of the external layer...')\n",
        "rdata = data.loc[(data['super_holder'] == False) & (data['super_target'] == False)]\n",
        "edges_left = len(rdata)\n",
        "print('layer 1:', edges_left, 'edges left')\n",
        "\n",
        "crdata = rdata.copy()\n",
        "\n",
        "for i in range(1, LEVELS):\n",
        "    is_sh = ~pd.Series(rdata.participant_id).isin(rdata.organisation_inn)\n",
        "    current_unique_sh = pd.Series(rdata.loc[is_sh == True].participant_id.value_counts().keys())\n",
        "    print('current SH', len(current_unique_sh))\n",
        "    curr_sh_prop_name = 'is_level_' + str(i) + '_SH'\n",
        "    crdata[curr_sh_prop_name] = pd.Series(crdata.participant_id).isin(current_unique_sh)\n",
        "\n",
        "    is_st = ~pd.Series(rdata.organisation_inn).isin(rdata.participant_id)\n",
        "    current_unique_st = pd.Series(rdata.loc[is_st == True].organisation_inn.value_counts().keys())\n",
        "    print('current ST', len(current_unique_st))\n",
        "    curr_st_prop_name = 'is_level_' + str(i) + '_ST'\n",
        "    crdata[curr_st_prop_name] = pd.Series(crdata.organisation_inn).isin(current_unique_st)\n",
        "\n",
        "    rdata = rdata.loc[(is_sh == False) & (is_st == False)]\n",
        "    print('layer {}: {} edges left'.format(i+1, len(rdata)))\n",
        "\n",
        "data_core = rdata.copy()\n",
        "core_holders = rdata.participant_id.value_counts()\n",
        "print('unique core holders:', len(core_holders))\n",
        "core_targets = rdata.organisation_inn.value_counts()\n",
        "print('unique core targets:', len(core_targets))"
      ]
    },
    {
      "cell_type": "markdown",
      "metadata": {
        "id": "X7Wals8aou9X",
        "pycharm": {
          "name": "#%% md\n"
        }
      },
      "source": [
        "# Creating P matrix for core members"
      ]
    },
    {
      "cell_type": "markdown",
      "metadata": {
        "id": "AiHZdG0wAQoC",
        "pycharm": {
          "name": "#%% md\n"
        }
      },
      "source": [
        "Убираем ненужные столбцы, создаем доп столбец `serial_number` для присвоения компании/участнику уникального номера"
      ]
    },
    {
      "cell_type": "code",
      "execution_count": null,
      "metadata": {
        "colab": {
          "base_uri": "https://localhost:8080/"
        },
        "id": "fAdUJO0T3kXk",
        "outputId": "547aab7a-e0ed-4026-fa2f-102a6d40d5f0",
        "pycharm": {
          "name": "#%%\n"
        }
      },
      "outputs": [
        {
          "output_type": "stream",
          "name": "stdout",
          "text": [
            "               organisation_inn  equity_share  serial_number\n",
            "participant_id                                              \n",
            "0245009730           0233004294      1.000000              0\n",
            "0250008394           0250009239      0.328529              0\n",
            "0250008404           0250001342      0.123348              0\n",
            "0250008362           0250009239      0.334200              0\n",
            "0250008362           0250001342      0.012827              0\n",
            "...                         ...           ...            ...\n",
            "7743286458           7721371340      0.204605              0\n",
            "9731019959           7704465622      0.990000              0\n",
            "9731019998           7706464857      0.502513              0\n",
            "9709040271           9718054016      0.500250              0\n",
            "7751153324           7751001160      1.000000              0\n",
            "\n",
            "[5751 rows x 3 columns]\n",
            "time: 21 ms (started: 2022-08-31 22:37:49 +00:00)\n"
          ]
        }
      ],
      "source": [
        "data_core_graph = data_core[['organisation_inn', 'equity_share']]\n",
        "data_core_graph.index = data_core['participant_id']\n",
        "# we will determine the serial number later\n",
        "data_core_graph.insert(2, \"serial_number\", 0)\n",
        "print(data_core_graph)"
      ]
    },
    {
      "cell_type": "markdown",
      "metadata": {
        "id": "0ylmx15eZ8mj",
        "pycharm": {
          "name": "#%% md\n"
        }
      },
      "source": [
        "## Creating indexes for repeating vertices"
      ]
    },
    {
      "cell_type": "markdown",
      "metadata": {
        "id": "mkCYsLKAA2eD",
        "pycharm": {
          "name": "#%% md\n"
        }
      },
      "source": [
        "Создадим словарь `double_edges` для повторяющихся участников, в котором ключи - индексы в `data_core_graph`, значения - `participant_id` по данному индексу"
      ]
    },
    {
      "cell_type": "code",
      "execution_count": null,
      "metadata": {
        "colab": {
          "base_uri": "https://localhost:8080/"
        },
        "id": "8tYVmv7gAS7_",
        "outputId": "9ba004c1-2ac7-4c4d-d4b4-77d4bab261e7",
        "pycharm": {
          "name": "#%%\n"
        },
        "scrolled": false
      },
      "outputs": [
        {
          "output_type": "stream",
          "name": "stdout",
          "text": [
            "{0: '7709544821', 1: '7715520956', 2: '7702524304', 3: '7722514294', 4: '7722514262', 5: '7722514431', 6: '7719516340', 7: '7722514400', 8: '7722514350', 9: '7720507848', 10: '7722514382', 11: '7730507205', 12: '5003046281', 13: '9703036046', 14: '7707620724', 15: '0268034331', 16: '7710658157', 17: '7709597566', 18: '7719277981', 19: '7727536647', 20: '7728541343', 21: '7728541336', 22: '7729144130', 23: '7709597453', 24: '7727536460', 25: '7719547148', 26: '7710662717', 27: '0274102068', 28: '7842005676', 29: '1660040227', 30: '7842007151', 31: '7842007698', 32: '0274102050', 33: '7842009744', 34: '6659068890', 35: '7842009769', 36: '7708561302', 37: '1658040540', 38: '1660072042', 39: '7838494350', 40: '2320075200', 41: '4002003036', 42: '5403174513', 43: '1657004451', 44: '7708111423', 45: '6660155957', 46: '7709776420', 47: '0411170866', 48: '5836634295', 49: '5837037686', 50: '7841364175', 51: '1831075222', 52: '7751188020', 53: '1833019311', 54: '0274102082', 55: '4205062622', 56: '5837020964', 57: '7705937892', 58: '0274102043', 59: '2267003574', 60: '1409003612', 61: '3610008775', 62: '7701263459', 63: '5835077980', 64: '3906232101', 65: '5253003900', 66: '3907207997', 67: '7802160690', 68: '3907208006', 69: '3907208140', 70: '0411063374', 71: '5423400016', 72: '7724261948', 73: '3907207972', 74: '5408226236', 75: '7703421301', 76: '5403173319', 77: '3907201709', 78: '5835029337', 79: '7725416288', 80: '3907207980', 81: '3215003952', 82: '4211015035', 83: '5835070060', 84: '1617005868', 85: '5835069971', 86: '7801586887', 87: '7801253768', 88: '5017087432', 89: '1655417100', 90: '6454099560', 91: '7801586862', 92: '5835070350', 93: '6144009020', 94: '1616007319', 95: '5404357686', 96: '6146001629', 97: '7707635583', 98: '7801585065', 99: '6144006460', 100: '7715514945', 101: '6454141959', 102: '1655332369', 103: '7801585121', 104: '7724671888', 105: '6454122321', 106: '7709800592', 107: '6453135984', 108: '1840087111', 109: '7801585114', 110: '6144006501', 111: '1657193689', 112: '6454142085', 113: '7801586848', 114: '5003049691', 115: '7801586855', 116: '7733185556', 117: '7707635618', 118: '7805093681', 119: '6659035729', 120: '5906060488', 121: '7709230046', 122: '5017090795', 123: '5836631329', 124: '1655391269', 125: '5834033980', 126: '5835068777', 127: '5835044818', 128: '7708556278', 129: '5835065913', 130: '5834034616', 131: '1657008640', 132: '1656095463', 133: '6146001570', 134: '7709776780', 135: '1658026987', 136: '7715664651', 137: '7709242235', 138: '7730040256', 139: '7736506159', 140: '5837033402', 141: '7709353707', 142: '2464057265', 143: '7709436946', 144: '0250009239', 145: '1831058192', 146: '7719197292', 147: '1658202128', 148: '7718768497', 149: '3905053011', 150: '9704011206', 151: '1609009178', 152: '2464124017', 153: '7717583430', 154: '7744003455', 155: '7106047033', 156: '7136024442', 157: '7737518710', 158: '1657146505', 159: '4223117521', 160: '7712036391', 161: '7717773582', 162: '6167055777', 163: '1660172921', 164: '1655253371', 165: '1661034265', 166: '5406172345', 167: '1648022038', 168: '5432214584', 169: '6319220386', 170: '6155014582', 171: '6155011503', 172: '6155012994', 173: '7706025994', 174: '7802166483', 175: '7106059060', 176: '0814137981', 177: '7612032925', 178: '6658539360', 179: '5029110206', 180: '7710423941', 181: '5610087812', 182: '0216005918', 183: '1658048187', 184: '1659142390', 185: '4221022779', 186: '2224083536', 187: '7536116112', 188: '7702186704', 189: '7743005690', 190: '7736510469', 191: '6144006830', 192: '7725416295', 193: '6634000298', 194: '6729040926', 195: '7727176867', 196: '2540126202', 197: '5406378360', 198: '7715665430', 199: '3666129588', 200: '1601005904', 201: '1661050235', 202: '1656095745', 203: '1655378451', 204: '7718669418', 205: '2267000407', 206: '2452041310', 207: '6659075432', 208: '3301036133', 209: '1831059213', 210: '3108004550', 211: '1834021659', 212: '1651056485', 213: '0274102477', 214: '0274102036', 215: '7715664718', 216: '7701264290', 217: '7715664676', 218: '2224092298', 219: '7714266961', 220: '1651069734', 221: '0255010090', 222: '7725416270', 223: '7725416263', 224: '7707631780', 225: '7707631797', 226: '0268022181', 227: '7703273491', 228: '3327820494', 229: '5257066122', 230: '7704833450', 231: '0276040794', 232: '0276040787', 233: '0278074069', 234: '5257066147', 235: '7714678330', 236: '5257066130', 237: '2224095450', 238: '2267003542', 239: '7722512152', 240: '6711002790', 241: '5904647979', 242: '1661015914', 243: '5257064044', 244: '7706505856', 245: '7707627800', 246: '3108007600', 247: '7701663626', 248: '7727569226', 249: '1656102689', 250: '7726608708', 251: '1616020870', 252: '1633003875', 253: '7718553212', 254: '5501104200', 255: '6321454913', 256: '7716694874', 257: '6321454896', 258: '7704830723', 259: '1651075008', 260: '2540100998', 261: '6726024235', 262: '5406415005', 263: '7709284813', 264: '2315981287', 265: '5010027064', 266: '7707285956', 267: '4632045980', 268: '2540105594', 269: '7105501303', 270: '5402040958', 271: '7705673093', 272: '5249156284', 273: '6908017634', 274: '2508064128', 275: '4345083252', 276: '7727223267', 277: '2464117891', 278: '7743044829', 279: '5047200540', 280: '6321323950', 281: '5050133171', 282: '1656049058', 283: '3818022930', 284: '7706238400', 285: '7743556513', 286: '5904168599', 287: '1102054991', 288: '2315984560', 289: '7715360357', 290: '7728021337', 291: '2315984552', 292: '4502016643', 293: '7707390615', 294: '7743220471', 295: '4632160574', 296: '2540107496', 297: '7715196234', 298: '7709331654', 299: '2315024584', 300: '7701171920', 301: '5402484960', 302: '7706753665', 303: '5020051588', 304: '5020052542', 305: '1650301568', 306: '7203422402', 307: '6727050679', 308: '1655343346', 309: '3528092277', 310: '6633013400', 311: '6633012572', 312: '7704392364', 313: '1658185200', 314: '6732065991', 315: '1655341998', 316: '7702806813', 317: '9717056187', 318: '1657250288', 319: '3664062426', 320: '1657249290', 321: '7726310333', 322: '7709315719', 323: '5039008890', 324: '5190163313', 325: '5007060625', 326: '7715206740', 327: '7017330338', 328: '5402487030', 329: '1656089090', 330: '1655338836', 331: '7729683929', 332: '0277908392', 333: '7718548798', 334: '5405432336', 335: '5405433788', 336: '7705468506', 337: '7705467534', 338: '0703008500', 339: '4253041735', 340: '7702809910', 341: '1652023330', 342: '5029076072', 343: '7727316828', 344: '5836680742', 345: '7717108843', 346: '7705320299', 347: '5902046475', 348: '6230105150', 349: '1660312368', 350: '7702226330', 351: '5020040064', 352: '7704828146', 353: '7804070272', 354: '7727555939', 355: '5906056227', 356: '5404219541', 357: '2460246102', 358: '7106524906', 359: '4252012308', 360: '2262003468', 361: '7716080232', 362: '7751001106', 363: '7707769530', 364: '7702782440', 365: '3666215188', 366: '5256044775', 367: '7715406266', 368: '2225141741', 369: '5904154532', 370: '7717159397', 371: '7714331995', 372: '6659094795', 373: '6660044661', 374: '6670026460', 375: '2464106177', 376: '7107098200', 377: '5220003334', 378: '4401182059', 379: '7725566879', 380: '4205054117', 381: '4205054075', 382: '7704605365', 383: '4238014744', 384: '5607045121', 385: '1658077501', 386: '7743596643', 387: '4632033382', 388: '6027141585', 389: '3528207048', 390: '7017300213', 391: '7705720459', 392: '5404050020', 393: '7704590920', 394: '5405971835', 395: '5048036999', 396: '7703504251', 397: '7716541645', 398: '6950039053', 399: '6732041461', 400: '7721290002', 401: '6730044107', 402: '2310190796', 403: '4823028930', 404: '1624446052', 405: '7733237525', 406: '9103069850', 407: '5029098220', 408: '5029098051', 409: '5017066560', 410: '7726326598', 411: '5009054176', 412: '7728270527', 413: '7728300299', 414: '6911020940', 415: '7743123220', 416: '7728301750', 417: '7737125540', 418: '1614011790', 419: '7736237516', 420: '7736236209', 421: '1651069981', 422: '3664078874', 423: '1650262894', 424: '1659133251', 425: '0278916075', 426: '0278916702', 427: '7718242873', 428: '7204026426', 429: '1657225789', 430: '7728232514', 431: '1657221760', 432: '7609017130', 433: '1655353619', 434: '1655349676', 435: '7705188844', 436: '7701263515', 437: '7716729291', 438: '7703255407', 439: '2721135086', 440: '0229951380', 441: '7705498532', 442: '0277917090', 443: '0266048970', 444: '0275908326', 445: '7703781110', 446: '7710351197', 447: '4205054100', 448: '3804049851', 449: '5405463310', 450: '8001034127', 451: '7814113415', 452: '7814119463', 453: '0400004017', 454: '0323398734', 455: '5407488060', 456: '6679101480', 457: '1837009586', 458: '5406752970', 459: '5404479846', 460: '1215120797', 461: '0250001342', 462: '8001041558', 463: '7706231002', 464: '8001041580', 465: '1101133270', 466: '6658486447', 467: '1001202178', 468: '4217167813', 469: '2465279849', 470: '0274117057', 471: '0703008370', 472: '0276082716', 473: '1661052426', 474: '0277064212', 475: '7724813606', 476: '2352035288', 477: '4217182850', 478: '4217182843', 479: '4028064900', 480: '2703082547', 481: '3804111612', 482: '7811492451', 483: '7727557301', 484: '3525359645', 485: '3666200664', 486: '2536192160', 487: '3665117460', 488: '2536184762', 489: '1658202209', 490: '1658201710', 491: '7813520070', 492: '1658200233', 493: '3804053223', 494: '8615010537', 495: '7842317869', 496: '3905053220', 497: '5190014897', 498: '4253015622', 499: '5190014738', 500: '5190014745', 501: '7727592708', 502: '5190014752', 503: '5190014760', 504: '5190014872', 505: '3327323573', 506: '5190014880', 507: '5261083025', 508: '5029199236', 509: '7727285619', 510: '7704345822', 511: '6312149776', 512: '3661026966', 513: '5405448791', 514: '6317106960', 515: '7721500725', 516: '3804028435', 517: '3827016676', 518: '2721090759', 519: '0276105385', 520: '7801189791', 521: '0274115405', 522: '0411093932', 523: '7805347103', 524: '1101038813', 525: '1101038771', 526: '1101038796', 527: '7810225125', 528: '3811996437', 529: '1503019289', 530: '5010046860', 531: '5262320631', 532: '7805249025', 533: '5406587090', 534: '9701043320', 535: '7725319742', 536: '0274108990', 537: '0274112210', 538: '5405968575', 539: '4824057997', 540: '0274115130', 541: '8001041572', 542: '5507050978', 543: '7714422226', 544: '7703663830', 545: '3908006147', 546: '6314039634', 547: '1655298037', 548: '3915009815', 549: '9722006311', 550: '9725057459', 551: '9725057434', 552: '9728040365', 553: '7736335464', 554: '4105021904', 555: '5405302707', 556: '4105015273', 557: '9701179786', 558: '4205029590', 559: '4205029600', 560: '5406301921', 561: '4617007966', 562: '5406301858', 563: '4220017409', 564: '7714469961', 565: '1655291585', 566: '7106505420', 567: '6314039641', 568: '6317102891', 569: '7729593376', 570: '7707627776', 571: '3241011967', 572: '7707654297', 573: '7841015015', 574: '7707654258', 575: '7707654032', 576: '7707622383', 577: '7707622136', 578: '7721581474', 579: '7709774913', 580: '7203222587', 581: '3445110099', 582: '5019017007', 583: '7710569517', 584: '3661024060', 585: '7705637666', 586: '7734551011', 587: '3803301498', 588: '1658158493', 589: '7707534909', 590: '6679061999', 591: '6220007242', 592: '4501087144', 593: '7701543054', 594: '5902845502', 595: '5037060100', 596: '5190922137', 597: '5402529812', 598: '6165127899', 599: '7728516273', 600: '5190109002', 601: '5190109027', 602: '5190109010', 603: '7702527062', 604: '5902845510', 605: '5401309500', 606: '1659142150', 607: '5251006582', 608: '5257053437', 609: '5259000938', 610: '5257043319', 611: '5243015343', 612: '7733350425', 613: '5401160554', 614: '5032045998', 615: '5903088573', 616: '7718520922', 617: '1683001961', 618: '5835060993', 619: '5837023309', 620: '5190919790', 621: '5190919800', 622: '5190920620', 623: '5190920651', 624: '4704043784', 625: '5948034218', 626: '5190920669', 627: '5908041071', 628: '5903088580', 629: '5908040889', 630: '7802706756', 631: '7842178816', 632: '5904185724', 633: '5018081923', 634: '5904185749', 635: '5022001159', 636: '5903089175', 637: '5903089168', 638: '7707627840', 639: '5902996156', 640: '5405190221', 641: '5902993934', 642: '7728699443', 643: '0714001578', 644: '2309093156', 645: '4217166249', 646: '9729030715', 647: '1001009696', 648: '7733262480', 649: '1020004527', 650: '7729483856', 651: '2624802288', 652: '1215071959', 653: '1215006685', 654: '3662094278', 655: '2269008634', 656: '2234011925', 657: '7709477043', 658: '1435029568', 659: '1833037656', 660: '1501030600', 661: '9715225506', 662: '2536276692', 663: '7723714715', 664: '7743741178', 665: '2310101323', 666: '7105506171', 667: '6633015742', 668: '0250008362', 669: '3664133010', 670: '6225009250', 671: '6220008140', 672: '6220008158', 673: '3811185573', 674: '3327823128', 675: '5254481459', 676: '5040090063', 677: '0411078726', 678: '5040089283', 679: '2312121357', 680: '0277045629', 681: '0277034916', 682: '7704446309', 683: '7727306474', 684: '7729628702', 685: '4811012156', 686: '7731335950', 687: '1651010530', 688: '1644035491', 689: '2464218272', 690: '7723683016', 691: '2224044880', 692: '1001219291', 693: '2276004246', 694: '2267003486', 695: '2267003528', 696: '1644059252', 697: '7842398709', 698: '7729616400', 699: '2315191458', 700: '7701805172', 701: '7715895673', 702: '7726601780', 703: '7726601766', 704: '7726601710', 705: '5405489565', 706: '5402583129', 707: '1828020150', 708: '7726603756', 709: '5404002041', 710: '5020040748', 711: '0276125864', 712: '2247003696', 713: '1644035501', 714: '1827010173', 715: '7726759785', 716: '2310137094', 717: '1648007174', 718: '2465307246', 719: '1621001344', 720: '7729785328', 721: '2225103217', 722: '1655181977', 723: '1656045991', 724: '1827002422', 725: '0274102075', 726: '5036143690', 727: '7841403674', 728: '1831059171', 729: '1831059206', 730: '1832025256', 731: '7841403681', 732: '7841403699', 733: '7706804077', 734: '1515919573', 735: '6317055017', 736: '5908041040', 737: '5406233358', 738: '7704767260', 739: '7737525965', 740: '7725831372', 741: '7726450637', 742: '6226006196', 743: '6229002961', 744: '7720457805', 745: '6382034948', 746: '6315537400', 747: '6314023296', 748: '1655232702', 749: '2336020929', 750: '7203104294', 751: '7723353160', 752: '7706465868', 753: '6321093463', 754: '6167055801', 755: '7842520170', 756: '7804533717', 757: '7725793977', 758: '0274192946', 759: '7720477706', 760: '3123284855', 761: '7722477532', 762: '5802003365', 763: '3528147430', 764: '2462217481', 765: '6162031116', 766: '5256043838', 767: '3403024916', 768: '7704465936', 769: '7814624730', 770: '2225115822', 771: '2240003947', 772: '7709957579', 773: '7726585225', 774: '7709846290', 775: '1655227808', 776: '1657107513', 777: '6658105998', 778: '1659111931', 779: '1001214720', 780: '2310216050', 781: '6608008283', 782: '6714021110', 783: '0276112752', 784: '6659049993', 785: '7116035421', 786: '7720823603', 787: '7714943540', 788: '6714024826', 789: '6672135169', 790: '1101088532', 791: '6904042220', 792: '6658153550', 793: '1655157082', 794: '7802819630', 795: '7704269963', 796: '7733751201', 797: '6367045617', 798: '1656107905', 799: '1648049985', 800: '7710703177', 801: '6376120758', 802: '1660333270', 803: '6685181564', 804: '1660333223', 805: '6165217905', 806: '1658105100', 807: '7802819622', 808: '1657079746', 809: '0274193040', 810: '6155032020', 811: '7728483846', 812: '5408227825', 813: '7722512508', 814: '7702521529', 815: '6920009478', 816: '7706270555', 817: '9715316915', 818: '1656116265', 819: '1656115328', 820: '2464154371', 821: '1656115198', 822: '1656113850', 823: '7724010302', 824: '1656113602', 825: '9101001913', 826: '7703461199', 827: '2464154364', 828: '7734512020', 829: '3662164736', 830: '5019021003', 831: '6162083234', 832: '5261039844', 833: '7701707295', 834: '7718630146', 835: '6027128753', 836: '7707631807', 837: '9701105978', 838: '4632101106', 839: '6220008574', 840: '6234084631', 841: '7707631814', 842: '5610050523', 843: '5610056740', 844: '5610059220', 845: '5904099151', 846: '7801445445', 847: '7706805426', 848: '3805708930', 849: '7733517603', 850: '7728446361', 851: '7709533072', 852: '3327105367', 853: '7709533097', 854: '0274193058', 855: '6144006491', 856: '9709034920', 857: '7602035772', 858: '3327855546', 859: '3905076202', 860: '7104512479'}\n",
            "time: 5.22 s (started: 2022-08-31 22:25:32 +00:00)\n"
          ]
        }
      ],
      "source": [
        "def get_key_by_value(dictionary, value):\n",
        "  for k, v in dictionary.items():\n",
        "    if v == value:\n",
        "      return k\n",
        "\n",
        "double_edges = {}\n",
        "\n",
        "i = 0\n",
        "while(len(data_core_graph) > 0 and data_core_graph.index.value_counts()[i] > 1):\n",
        "  double_edges[i] = (data_core_graph.index.value_counts().index[i])\n",
        "  i+= 1\n",
        "\n",
        "print(double_edges)"
      ]
    },
    {
      "cell_type": "markdown",
      "metadata": {
        "id": "Bw6S7iXJahht",
        "pycharm": {
          "name": "#%% md\n"
        }
      },
      "source": [
        "## Creating serial number in data_core"
      ]
    },
    {
      "cell_type": "markdown",
      "metadata": {
        "id": "n5--1Rp0FIjI",
        "pycharm": {
          "name": "#%% md\n"
        }
      },
      "source": [
        "Проставляем каждому владельцу (`participant_id`) свой идентификационный номер, в случае повторного появления - выставляется `id` первого вхождения"
      ]
    },
    {
      "cell_type": "code",
      "execution_count": null,
      "metadata": {
        "colab": {
          "base_uri": "https://localhost:8080/",
          "height": 236
        },
        "id": "CoBK8sZwSlBc",
        "outputId": "99df9ece-e67d-4987-e931-974eb1f163bf",
        "pycharm": {
          "name": "#%%\n"
        }
      },
      "outputs": [
        {
          "output_type": "error",
          "ename": "NameError",
          "evalue": "ignored",
          "traceback": [
            "\u001b[0;31m---------------------------------------------------------------------------\u001b[0m",
            "\u001b[0;31mNameError\u001b[0m                                 Traceback (most recent call last)",
            "\u001b[0;32m<ipython-input-1-d7a718f2eb2d>\u001b[0m in \u001b[0;36m<module>\u001b[0;34m\u001b[0m\n\u001b[1;32m      2\u001b[0m \u001b[0mindex_serial_number\u001b[0m \u001b[0;34m=\u001b[0m \u001b[0;36m0\u001b[0m\u001b[0;34m\u001b[0m\u001b[0;34m\u001b[0m\u001b[0m\n\u001b[1;32m      3\u001b[0m \u001b[0;34m\u001b[0m\u001b[0m\n\u001b[0;32m----> 4\u001b[0;31m \u001b[0;32mfor\u001b[0m \u001b[0mi\u001b[0m \u001b[0;32min\u001b[0m \u001b[0mrange\u001b[0m\u001b[0;34m(\u001b[0m\u001b[0mlen\u001b[0m\u001b[0;34m(\u001b[0m\u001b[0mdata_core_graph\u001b[0m\u001b[0;34m)\u001b[0m\u001b[0;34m)\u001b[0m\u001b[0;34m:\u001b[0m\u001b[0;34m\u001b[0m\u001b[0;34m\u001b[0m\u001b[0m\n\u001b[0m\u001b[1;32m      5\u001b[0m   \u001b[0;32mif\u001b[0m \u001b[0;34m(\u001b[0m\u001b[0mdata_core_graph\u001b[0m\u001b[0;34m.\u001b[0m\u001b[0mindex\u001b[0m\u001b[0;34m[\u001b[0m\u001b[0mi\u001b[0m\u001b[0;34m]\u001b[0m \u001b[0;32min\u001b[0m \u001b[0mdouble_edges\u001b[0m\u001b[0;34m.\u001b[0m\u001b[0mvalues\u001b[0m\u001b[0;34m(\u001b[0m\u001b[0;34m)\u001b[0m\u001b[0;34m)\u001b[0m\u001b[0;34m:\u001b[0m\u001b[0;34m\u001b[0m\u001b[0;34m\u001b[0m\u001b[0m\n\u001b[1;32m      6\u001b[0m     \u001b[0;31m# if repeated edge\u001b[0m\u001b[0;34m\u001b[0m\u001b[0;34m\u001b[0m\u001b[0;34m\u001b[0m\u001b[0m\n",
            "\u001b[0;31mNameError\u001b[0m: name 'data_core_graph' is not defined"
          ]
        }
      ],
      "source": [
        "current_serial_number = 0\n",
        "index_serial_number = 0\n",
        "\n",
        "for i in range(len(data_core_graph)):\n",
        "  if (data_core_graph.index[i] in double_edges.values()):\n",
        "    # if repeated edge\n",
        "    current_serial_number = get_key_by_value(double_edges, data_core_graph.index[i])\n",
        "  else:\n",
        "    while(index_serial_number in double_edges):\n",
        "      index_serial_number+= 1\n",
        "    current_serial_number = index_serial_number\n",
        "    index_serial_number+= 1\n",
        "\n",
        "  data_core_graph.loc[data_core_graph.index[i], 'serial_number'] = current_serial_number# try to use apply\n",
        "data_core_graph.head()"
      ]
    },
    {
      "cell_type": "markdown",
      "metadata": {
        "id": "CvQv1eA219EO",
        "pycharm": {
          "name": "#%% md\n"
        }
      },
      "source": [
        "# Finding strongly connected components (by Tarjan's Algorithm)"
      ]
    },
    {
      "cell_type": "code",
      "execution_count": null,
      "metadata": {
        "colab": {
          "base_uri": "https://localhost:8080/"
        },
        "id": "DdyMQnABAEwJ",
        "outputId": "2aedd89f-ec51-40f7-99c5-0891ef64cfa4",
        "pycharm": {
          "name": "#%%\n"
        }
      },
      "outputs": [
        {
          "output_type": "stream",
          "name": "stdout",
          "text": [
            "time: 1.04 ms (started: 2022-08-31 22:43:39 +00:00)\n"
          ]
        }
      ],
      "source": [
        "def get_serial_number_by_vertice(v):\n",
        "  for i in range(len(data_core_graph)):\n",
        "    if(data_core_graph.index[i] == v):\n",
        "      return data_core_graph['serial_number'][i]"
      ]
    },
    {
      "cell_type": "markdown",
      "metadata": {
        "id": "a9ywYTySK1Ys",
        "pycharm": {
          "name": "#%% md\n"
        }
      },
      "source": [
        "создаем `table_of_edges`, будем там хранить пары `(i, j)`, означающие, что компания с `serial_number` = `i` владеет компанией с `serial_number` = `j`"
      ]
    },
    {
      "cell_type": "code",
      "execution_count": null,
      "metadata": {
        "colab": {
          "base_uri": "https://localhost:8080/"
        },
        "id": "v9ts3u6EEegf",
        "outputId": "123aedb2-c8c9-4bf8-ab0a-a7688cac35d8",
        "pycharm": {
          "name": "#%%\n"
        }
      },
      "outputs": [
        {
          "output_type": "stream",
          "name": "stdout",
          "text": [
            "Total edges:  5751\n",
            "time: 33.3 s (started: 2022-08-31 22:43:43 +00:00)\n"
          ]
        }
      ],
      "source": [
        "table_of_edges = []\n",
        "for i in range(len(data_core_graph)):\n",
        "  table_of_edges.append((get_serial_number_by_vertice(data_core_graph.index[i]), get_serial_number_by_vertice(data_core_graph['organisation_inn'][i])))\n",
        "print('Total edges: ', len(table_of_edges))"
      ]
    },
    {
      "cell_type": "code",
      "execution_count": null,
      "metadata": {
        "colab": {
          "base_uri": "https://localhost:8080/"
        },
        "id": "JaN4-x6e2P5h",
        "outputId": "43dbe04a-46b6-43e3-af90-f40f3b140c8d",
        "pycharm": {
          "name": "#%%\n"
        }
      },
      "outputs": [
        {
          "data": {
            "text/html": [
              "<pre>47 ms (31/08/2022 05:21:42 ~ 31/08/2022 05:21:42)</pre>"
            ],
            "text/plain": [
              "<IPython.core.display.HTML object>"
            ]
          },
          "metadata": {},
          "output_type": "display_data"
        },
        {
          "name": "stdout",
          "output_type": "stream",
          "text": [
            "[862, 144, 863, 461, 668]\n",
            "[864, 1784, 474, 1785]\n",
            "[221, 232, 233, 1495]\n",
            "[867, 226, 231, 681]\n",
            "[868, 15, 869, 870, 871, 872, 873, 874, 875, 876]\n",
            "[878, 537, 1497, 472]\n",
            "[880, 362, 1954, 12, 904, 989, 1001, 1016, 1034, 1128, 1129, 1175, 1258, 1563, 4079]\n",
            "[680, 1496, 2681]\n",
            "[677, 891, 453, 70, 3174, 3175, 3876, 47]\n",
            "[643, 3780, 338, 471, 3781]\n",
            "[647, 900, 649]\n",
            "[652, 653, 460]\n",
            "[910, 658, 911]\n",
            "[60, 2682, 2683, 2684, 2685, 2686]\n",
            "[912, 1504, 1503]\n",
            "[914, 2736, 2619]\n",
            "[660, 915, 529]\n",
            "[94, 924, 43, 37, 922, 29, 1792, 183, 926, 135, 1505, 1793, 131, 38, 1794]\n",
            "[919, 421, 3056, 165, 220, 212, 3637, 305]\n",
            "[687, 719, 723]\n",
            "[2934, 4045, 588]\n",
            "[717, 492, 431, 147, 124, 89, 202, 1791, 928, 2362, 203, 418, 2928, 3786, 167, 3788, 3185]\n",
            "[935, 714, 1508]\n",
            "[934, 724, 936]\n",
            "[728, 729, 53, 51, 209, 730, 211, 145]\n",
            "[943, 656, 1512]\n",
            "[712, 1513, 1511]\n",
            "[691, 237, 1987, 186, 218, 1988]\n",
            "[694, 205, 695, 59, 238, 955]\n",
            "[55, 558, 559, 380, 447, 381]\n",
            "[40, 82, 146, 1408, 121, 141, 1539, 143]\n",
            "[965, 976, 3500, 3792, 2553, 3498]\n",
            "[969, 1521, 1520]\n",
            "[982, 984, 983]\n",
            "[992, 3886, 2379]\n",
            "[993, 439, 2705]\n",
            "[999, 287, 1119]\n",
            "[3418, 2778, 3422]\n",
            "[81, 227, 436, 128, 216, 46, 44, 62, 36, 240, 41, 134]\n",
            "[1007, 2012, 1533]\n",
            "[584, 512, 2018]\n",
            "[587, 516, 493]\n",
            "[1023, 298, 1746, 2419]\n",
            "[545, 2828, 2829]\n",
            "[548, 149, 1545, 496, 859]\n",
            "[1035, 554, 1037]\n",
            "[1038, 556, 1039]\n",
            "[563, 498, 468]\n",
            "[1049, 65, 243, 610, 234, 236, 229]\n",
            "[592, 366, 3375]\n",
            "[1057, 267, 1836, 1058, 2031]\n",
            "[1060, 838, 387]\n",
            "[624, 1337, 814, 337]\n",
            "[633, 1070, 1898]\n",
            "[635, 430, 2558, 2837]\n",
            "[1073, 293, 3275]\n",
            "[614, 2126, 2421, 2596]\n",
            "[1078, 1079, 595]\n",
            "[600, 601, 602]\n",
            "[1093, 377, 1855]\n",
            "[607, 3223, 3818, 3531]\n",
            "[609, 675, 507]\n",
            "[640, 605, 706, 597]\n",
            "[166, 737, 560, 2046, 2427, 197]\n",
            "[1108, 71, 1585, 1861, 1862, 1863]\n",
            "[78, 1130, 92, 56, 1587, 126, 63, 125, 48, 129, 49, 140, 123, 85, 83, 127, 130]\n",
            "[1135, 369, 1867]\n",
            "[845, 2441, 241, 2268, 2269, 120, 1139, 355, 2264, 1868, 2861]\n",
            "[1148, 2447, 3240]\n",
            "[191, 855, 93, 110, 1152, 1153, 99, 1154]\n",
            "[96, 1155, 1156, 170, 171, 172, 133, 810]\n",
            "[1157, 1159, 1160, 1158]\n",
            "[765, 3696, 3828]\n",
            "[162, 1874, 754, 1168]\n",
            "[742, 840, 348]\n",
            "[743, 2865, 2983, 3738, 3575]\n",
            "[1171, 747, 745]\n",
            "[746, 1173, 1174]\n",
            "[1177, 2414, 2450, 2350]\n",
            "[1179, 367, 3548]\n",
            "[1190, 292, 784, 781]\n",
            "[792, 777, 789]\n",
            "[1202, 45, 34, 193, 207, 119, 373, 1603]\n",
            "[1203, 1604, 1204]\n",
            "[1211, 2042, 1332]\n",
            "[782, 401, 788]\n",
            "[1220, 1881, 1222]\n",
            "[791, 1928, 1941]\n",
            "[1229, 156, 1230, 785]\n",
            "[1233, 1614, 1238]\n",
            "[1249, 1673, 1353]\n",
            "[857, 1255, 1256]\n",
            "[1264, 1321, 1953, 188, 1335, 1499]\n",
            "[823, 1269, 1270, 1689, 1675, 1669, 1731]\n",
            "[1272, 1647, 195, 3267, 1398]\n",
            "[1273, 1302, 2107]\n",
            "[1276, 534, 4121]\n",
            "[1278, 345, 4024]\n",
            "[75, 3742, 744, 4031, 3745, 3949, 4012, 4190]\n",
            "[1284, 137, 1286, 1290, 1294]\n",
            "[463, 505, 244, 1828]\n",
            "[219, 1716, 253, 271]\n",
            "[284, 1963, 3573]\n",
            "[265, 326, 189, 751, 148, 1360, 154, 173]\n",
            "[1309, 22, 1310, 1320, 1671, 1936, 642, 3008]\n",
            "[1312, 1650, 1365]\n",
            "[1317, 1319, 1318]\n",
            "[1328, 300, 321, 1330, 1334]\n",
            "[1333, 491, 1762]\n",
            "[336, 350, 382]\n",
            "[1342, 1432, 1416]\n",
            "[289, 1695, 2228]\n",
            "[1346, 1362, 1942]\n",
            "[276, 1890, 371]\n",
            "[1350, 1680, 4, 1355, 11, 1632, 9, 1641, 10, 1659, 1, 1660, 5, 1661, 7, 1662, 2, 1663, 8, 1664, 0, 1726, 3, 1727, 6]\n",
            "[1357, 400, 2093]\n",
            "[297, 2139, 1469, 2496, 833]\n",
            "[1363, 3865, 1706]\n",
            "[263, 2275, 3011]\n",
            "[1369, 1387, 1640]\n",
            "[346, 1370, 520, 1372]\n",
            "[1373, 2143, 1674]\n",
            "[1376, 180, 1390, 1393]\n",
            "[1378, 2655, 1379]\n",
            "[1388, 2657, 2474]\n",
            "[266, 1651, 2909]\n",
            "[1418, 1943, 1441]\n",
            "[1420, 1421, 1422]\n",
            "[278, 1637, 1748]\n",
            "[1429, 3584, 2772]\n",
            "[1435, 1643, 2763]\n",
            "[138, 435, 72, 417, 139, 603, 190]\n",
            "[353, 1754, 1476, 1775]\n",
            "[174, 67, 1449, 1452, 1453, 1454, 1451]\n",
            "[1456, 527, 573]\n",
            "[1463, 1960, 3616]\n",
            "[451, 452, 50, 28, 30, 31, 33, 35]\n",
            "[1465, 495, 1474]\n",
            "[1466, 2151, 1470]\n",
            "[4252, 683, 4257]\n",
            "[1479, 450, 1480]\n",
            "[462, 541, 464]\n",
            "[1488, 2159, 2158, 2525]\n",
            "[494, 1776, 2284]\n",
            "[522, 2847, 832]\n",
            "[176, 1690, 1691, 1692]\n",
            "[524, 525, 526]\n",
            "[1506, 313, 3645, 349, 1983, 3881, 3486]\n",
            "[1514, 2805, 2369, 2186, 2370]\n",
            "[1517, 2892, 3567]\n",
            "[518, 3333, 3504]\n",
            "[1531, 228, 1532, 2011]\n",
            "[1535, 763, 2817]\n",
            "[1536, 2013, 1816, 2200, 2201]\n",
            "[1537, 309, 1538]\n",
            "[1541, 2017, 1542]\n",
            "[61, 1823, 1824, 1825, 1826, 1827]\n",
            "[1544, 2565, 2825]\n",
            "[517, 1831, 673, 3348]\n",
            "[1547, 3672, 3212, 3671]\n",
            "[383, 2407, 185, 2215, 645, 3355]\n",
            "[1556, 295, 2835, 2412, 3088]\n",
            "[1578, 3227, 2603, 2425]\n",
            "[356, 812, 562]\n",
            "[1600, 310, 667, 311, 2744]\n",
            "[372, 3397, 2748, 3399]\n",
            "[374, 2063, 3905]\n",
            "[136, 217, 215, 198, 104]\n",
            "[1609, 566, 2282]\n",
            "[1612, 428, 2285]\n",
            "[432, 3562, 370]\n",
            "[1623, 611, 4243]\n",
            "[1636, 795, 150, 2945]\n",
            "[441, 427, 616]\n",
            "[18, 24, 25, 23, 17, 21, 20, 19]\n",
            "[1657, 410, 1658]\n",
            "[1666, 413, 1667]\n",
            "[1697, 446, 307]\n",
            "[1700, 438, 1703]\n",
            "[1720, 1751, 1752]\n",
            "[1722, 405, 3563]\n",
            "[828, 1905, 1922]\n",
            "[1742, 2675, 2483]\n",
            "[1747, 1900, 1899]\n",
            "[1758, 1760, 3044]\n",
            "[532, 727, 1965, 732, 731]\n",
            "[1778, 1969, 1779]\n",
            "[1780, 182, 1970, 2160]\n",
            "[1782, 3173, 470, 540]\n",
            "[1787, 692, 467, 779, 2532]\n",
            "[1795, 3969, 3319]\n",
            "[4145, 720, 2907, 650]\n",
            "[142, 689, 152, 2702, 277, 390, 357, 327, 820, 375, 827]\n",
            "[1806, 260, 274, 296, 196, 268, 2195]\n",
            "[1808, 488, 2194]\n",
            "[1809, 651, 1810]\n",
            "[1812, 480, 3204]\n",
            "[1817, 766, 2080, 2171, 2007, 1878]\n",
            "[1819, 654, 1822, 1821, 1820, 319]\n",
            "[275, 2217, 2218]\n",
            "[114, 1839, 52, 1840, 1841, 1842, 4094]\n",
            "[702, 704, 703, 708]\n",
            "[351, 393, 179]\n",
            "[342, 407, 303, 325]\n",
            "[1851, 2238, 1853]\n",
            "[1857, 1859, 2041, 2040]\n",
            "[76, 74, 42]\n",
            "[542, 2232, 2732]\n",
            "[1864, 2974, 2852]\n",
            "[333, 2033, 204, 422]\n",
            "[797, 801, 735]\n",
            "[1884, 2998, 580]\n",
            "[1889, 3410, 2647]\n",
            "[239, 1918, 1919, 1920]\n",
            "[1903, 13, 2106, 3140, 4016, 223, 79, 222, 4017, 192, 4085]\n",
            "[851, 853, 1914]\n",
            "[1912, 247, 2298, 235]\n",
            "[849, 1925, 1926]\n",
            "[813, 678, 676]\n",
            "[589, 2135, 2471]\n",
            "[585, 2234, 2321, 408, 583]\n",
            "[1962, 3613, 482]\n",
            "[1967, 2524, 2157]\n",
            "[214, 58, 32, 27, 725, 54, 213]\n",
            "[713, 2534, 707, 688, 696]\n",
            "[659, 2539, 2799]\n",
            "[655, 360, 2184]\n",
            "[644, 679, 716]\n",
            "[665, 2489, 4146]\n",
            "[199, 2393, 365, 3345, 485]\n",
            "[2025, 3977, 3086, 3819]\n",
            "[2026, 106, 2402, 2403, 2405]\n",
            "[710, 2507, 3036]\n",
            "[582, 579, 2652, 57, 830, 2653, 4149]\n",
            "[2043, 555, 2606]\n",
            "[618, 2439, 4228, 4255]\n",
            "[619, 2049, 3538]\n",
            "[2051, 3656, 3381]\n",
            "[598, 2276, 2620]\n",
            "[2066, 2457, 2746, 2632, 2635]\n",
            "[2069, 2287, 2267]\n",
            "[2071, 685, 4018]\n",
            "[2075, 2751, 815]\n",
            "[2088, 4171, 508]\n",
            "[2094, 2095, 2101, 2096]\n",
            "[2150, 697, 755, 4040]\n",
            "[536, 521, 690]\n",
            "[2172, 385, 2173]\n",
            "[2175, 242, 2176, 2177]\n",
            "[2185, 664, 3571]\n",
            "[2189, 3016, 3497]\n",
            "[2198, 2386, 2383]\n",
            "[2213, 2573, 2953]\n",
            "[2214, 771, 3105]\n",
            "[2221, 561, 3425]\n",
            "[403, 539, 3361]\n",
            "[2226, 2231, 3528]\n",
            "[2229, 2992, 3981, 2230, 3808, 3523, 3809]\n",
            "[411, 3681, 3684, 3937]\n",
            "[409, 739, 153, 157]\n",
            "[2240, 2243, 2244, 2247, 2248, 2249, 2245, 2599, 2598, 2424, 2246, 2242, 2241]\n",
            "[2250, 3815, 4013]\n",
            "[2261, 3537, 3235]\n",
            "[2271, 3903, 402]\n",
            "[2278, 3702, 169, 3703]\n",
            "[2280, 376, 2283]\n",
            "[2286, 391, 2442]\n",
            "[397, 2420, 2757]\n",
            "[2294, 2300, 2295]\n",
            "[379, 194, 314]\n",
            "[386, 352, 475, 571, 258, 230]\n",
            "[501, 2495, 2658]\n",
            "[2324, 837, 3921]\n",
            "[16, 2487, 26, 224, 570, 14, 2387, 2388, 2389, 225, 245, 577, 576, 836, 841, 638, 97, 2488, 117, 4151]\n",
            "[465, 790, 3297]\n",
            "[2357, 2689, 2687, 2688]\n",
            "[2372, 749, 2548, 2701]\n",
            "[2376, 662, 486]\n",
            "[283, 454, 481]\n",
            "[2408, 159, 2832, 2833]\n",
            "[2416, 3812, 612, 3527]\n",
            "[323, 2597, 3686]\n",
            "[324, 504, 500, 506, 502, 503, 499, 497]\n",
            "[301, 2429, 95, 328, 262]\n",
            "[254, 2611, 2612]\n",
            "[2432, 2435, 2434, 2433]\n",
            "[286, 2445, 639, 641]\n",
            "[2465, 666, 2875]\n",
            "[269, 2876, 2771, 860]\n",
            "[2900, 800, 544, 2663]\n",
            "[773, 2512, 2661]\n",
            "[2517, 3758, 3169]\n",
            "[776, 3305, 3183, 3178, 2792, 3639, 163, 164, 3152, 404, 424, 252, 423, 102, 2796, 3179, 111, 3060, 3184, 3783, 3304, 3312, 3478, 3313, 3308]\n",
            "[808, 3189, 3190, 2693]\n",
            "[806, 3195, 259]\n",
            "[2540, 108, 2541, 2801, 3061]\n",
            "[2559, 581, 2708]\n",
            "[767, 2813, 2814]\n",
            "[2560, 2712, 2562]\n",
            "[2572, 3514, 2670]\n",
            "[77, 73, 80, 68, 66, 69, 64]\n",
            "[2574, 3516, 3080]\n",
            "[594, 637, 628, 629, 615, 604, 636, 627, 736, 625, 632, 634]\n",
            "[2614, 3237, 3110]\n",
            "[2643, 175, 358, 155]\n",
            "[2649, 2888, 2754]\n",
            "[575, 574, 572]\n",
            "[2696, 2863, 457]\n",
            "[721, 2719, 368, 770]\n",
            "[2698, 2804, 2802]\n",
            "[2714, 528, 2951, 2952]\n",
            "[2729, 2903, 2890]\n",
            "[684, 415, 698]\n",
            "[663, 2760, 2761]\n",
            "[2759, 2773, 2774, 2906]\n",
            "[2793, 748, 2930]\n",
            "[3180, 565, 3182]\n",
            "[2803, 780, 3970]\n",
            "[2843, 631, 3687]\n",
            "[620, 621, 622, 596, 623, 2846, 626]\n",
            "[2849, 168, 2971, 3229]\n",
            "[2855, 384, 2856, 3379, 3536, 3232]\n",
            "[3542, 3695, 3541]\n",
            "[2874, 2994, 3120, 3119]\n",
            "[2885, 187, 2886, 2887]\n",
            "[774, 3680, 686, 726, 281]\n",
            "[2893, 3155, 3515]\n",
            "[2905, 4212, 701]\n",
            "[738, 3007, 578]\n",
            "[796, 161, 3417, 786]\n",
            "[775, 3057, 3058]\n",
            "[764, 469, 718]\n",
            "[760, 2950, 3071, 858, 3077]\n",
            "[2969, 3097, 847, 3099, 3224]\n",
            "[334, 335, 705]\n",
            "[2980, 3826, 3108]\n",
            "[331, 316, 361]\n",
            "[3022, 437, 3266, 3023]\n",
            "[3043, 3749, 3615]\n",
            "[3073, 272, 3259, 378, 3257]\n",
            "[3074, 389, 3340]\n",
            "[513, 538, 394]\n",
            "[449, 3106, 3230]\n",
            "[3109, 347, 3997]\n",
            "[105, 107, 101, 112, 90]\n",
            "[3117, 398, 3554]\n",
            "[3133, 445, 3156]\n",
            "[3147, 4236, 3679]\n",
            "[98, 103, 109, 91, 115, 113, 86]\n",
            "[3202, 3517, 3327]\n",
            "[3213, 4032, 3673]\n",
            "[3214, 479, 3352]\n",
            "[530, 4111, 4112, 4110, 4113]\n",
            "[459, 458, 533]\n",
            "[3241, 3706, 3544, 3705]\n",
            "[340, 4090, 4091]\n",
            "[757, 3423, 740]\n",
            "[807, 794, 769]\n",
            "[39, 3284, 3285, 3286, 3287, 3288, 3289]\n",
            "[758, 809, 425, 854, 426]\n",
            "[3302, 3475, 3636]\n",
            "[547, 3386, 3406]\n",
            "[699, 291, 299, 264, 288]\n",
            "[3324, 206, 3325, 3326]\n",
            "[709, 392, 270]\n",
            "[3384, 805, 3385]\n",
            "[567, 546, 511]\n",
            "[3392, 3764, 3773]\n",
            "[3396, 590, 3398]\n",
            "[772, 4027, 856, 657]\n",
            "[787, 306, 343]\n",
            "[3458, 3594, 406]\n",
            "[3469, 444, 3628]\n",
            "[3484, 329, 3485]\n",
            "[434, 3642, 3644]\n",
            "[3510, 3511, 3512]\n",
            "[3552, 178, 3774, 4000]\n",
            "[3574, 3863, 3861]\n",
            "[412, 3586, 3740]\n",
            "[3588, 317, 4215]\n",
            "[3591, 648, 682, 3839]\n",
            "[3629, 3630, 3631]\n",
            "[3633, 3963, 3634]\n",
            "[3640, 429, 433, 3641]\n",
            "[395, 510, 523]\n",
            "[3699, 3701, 3700]\n",
            "[509, 3732, 3948, 3733]\n",
            "[3735, 4214, 4204]\n",
            "[3746, 250, 4221, 4231]\n",
            "[466, 3765, 4108]\n",
            "[3771, 456, 3772]\n",
            "[3789, 3965, 318, 3964]\n",
            "[478, 477, 339]\n",
            "[344, 3992, 3993]\n",
            "[312, 3887, 3939]\n",
            "[257, 255, 817]\n",
            "[3914, 4172, 4177]\n",
            "[850, 3940, 3941]\n",
            "[3943, 768, 3946]\n",
            "[3947, 752, 4260]\n",
            "[3956, 3957, 3958]\n",
            "[759, 4025, 4026]\n",
            "[811, 4036, 4037]\n",
            "[4063, 803, 4064]\n",
            "[557, 553, 552]\n",
            "[551, 550, 549]\n"
          ]
        }
      ],
      "source": [
        "from collections import defaultdict\n",
        " \n",
        "def from_edges(edges):\n",
        "    # translate list of edges to list of nodes\n",
        " \n",
        "    class Node:\n",
        "        def __init__(self):\n",
        "            # root is one of:\n",
        "            # None: not yet visited\n",
        "            # -1: already processed\n",
        "            # non-negative integer: lowlink\n",
        "            self.root = None\n",
        "            self.successors = []\n",
        " \n",
        "    nodes = defaultdict(Node)\n",
        "    for v,w in edges:\n",
        "        nodes[v].successors.append(nodes[w])\n",
        " \n",
        "    for i,v in nodes.items(): # name the nodes for final output\n",
        "        v.id = i\n",
        " \n",
        "    return nodes.values()\n",
        " \n",
        "def tarjan(V):\n",
        "    def strongconnect(v, S):\n",
        "        v.root = pos = len(S)\n",
        "        S.append(v)\n",
        " \n",
        "        for w in v.successors:\n",
        "            if w.root is None:  # not yet visited\n",
        "                yield from strongconnect(w, S)\n",
        " \n",
        "            if w.root >= 0:  # still on stack\n",
        "                v.root = min(v.root, w.root)\n",
        " \n",
        "        if v.root == pos:  # v is the root, return everything above\n",
        "            res, S[pos:] = S[pos:], []\n",
        "            for w in res:\n",
        "                w.root = -1\n",
        "            yield [r.id for r in res]\n",
        " \n",
        "    for v in V:\n",
        "        if v.root is None:\n",
        "            yield from strongconnect(v, [])"
      ]
    },
    {
      "cell_type": "markdown",
      "metadata": {
        "id": "mhYQzSKqJPbv",
        "pycharm": {
          "name": "#%% md\n"
        }
      },
      "source": [
        "# Finding the distribution of possessions in one adjacency component"
      ]
    },
    {
      "cell_type": "code",
      "execution_count": null,
      "metadata": {
        "colab": {
          "base_uri": "https://localhost:8080/",
          "height": 398
        },
        "id": "9x9vylJpH8P2",
        "outputId": "84684ead-7b78-4a58-a905-af3086620909",
        "pycharm": {
          "name": "#%%\n"
        }
      },
      "outputs": [
        {
          "data": {
            "text/html": [
              "<pre>26.7 s (31/08/2022 05:21:44 ~ 31/08/2022 05:22:11)</pre>"
            ],
            "text/plain": [
              "<IPython.core.display.HTML object>"
            ]
          },
          "metadata": {},
          "output_type": "display_data"
        }
      ],
      "source": [
        "T_list = []\n",
        "all_vertices_in_components_of_strong_connectivity = []\n",
        "\n",
        "def find_stationary(A):\n",
        "  #note: the matrix is row stochastic.\n",
        "  #A markov chain transition will correspond to left multiplying by a row vector.\n",
        "  #We have to transpose so that Markov transitions correspond to right multiplying by a column vector.  np.linalg.eig finds right eigenvectors.\n",
        "  evals, evecs = np.linalg.eig(A.T)\n",
        "  evec1 = evecs[:,np.isclose(evals, 1)]\n",
        "\n",
        "  #Since np.isclose will return an array, we've indexed with an array\n",
        "  #so we still have our 2nd axis.  Get rid of it, since it's only size 1.\n",
        "  evec1 = evec1[:,0]\n",
        "  stationary = evec1 / evec1.sum()\n",
        "\n",
        "  #eigs finds complex eigenvalues and eigenvectors, so you'll want the real part.\n",
        "  stationary = stationary.real\n",
        "  return stationary\n",
        "\n",
        "def get_vertice_by_serial_number(serial_number):\n",
        "  return (data_core_graph[data_core_graph['serial_number'] == serial_number].index[0])\n",
        "\n",
        "def get_A_for_component(component):\n",
        "  vertices_one_component = {}\n",
        "  tmp = {'participant_id': [], 'organisation_inn': [], 'equity_share': [], 'serial_number': []}\n",
        "  cur_data_core_graph = pd.DataFrame(tmp).set_index('participant_id')\n",
        "\n",
        "  A_cur_matrix = np.zeros((len(component), len(component)), dtype=float)\n",
        "  \n",
        "  for i in range(len(component)):\n",
        "    vertices_one_component[i] = component[i]\n",
        "    all_vertices_in_components_of_strong_connectivity.append(get_vertice_by_serial_number(component[i]))\n",
        "\n",
        "  cur_data_core_graph = pd.concat([cur_data_core_graph, data_core_graph[data_core_graph.serial_number.isin(component)]])\n",
        "  component_inns = set(cur_data_core_graph.index.to_numpy())\n",
        "  cur_data_core_graph = cur_data_core_graph[cur_data_core_graph.organisation_inn.isin(component_inns)]\n",
        "  for i in range(len(cur_data_core_graph)):\n",
        "    a = get_key_by_value(vertices_one_component, get_serial_number_by_vertice(cur_data_core_graph.index[i]))\n",
        "    b = get_key_by_value(vertices_one_component, get_serial_number_by_vertice(cur_data_core_graph['organisation_inn'][i]))\n",
        "    A_cur_matrix[a][b] = cur_data_core_graph['equity_share'][i]\n",
        "\n",
        "  return A_cur_matrix\n",
        "\n",
        "for component in tarjan(from_edges(table_of_edges)):\n",
        "  if(len(component) < 2):\n",
        "        continue\n",
        "  D = np.zeros((len(component), len(component)), dtype=float)\n",
        "  A_matrix_one_component = get_A_for_component(component)\n",
        "  correct_component = True\n",
        "\n",
        "  for i in range(len(A_matrix_one_component)):\n",
        "    s = 0\n",
        "    for j in range(len(A_matrix_one_component)):\n",
        "      s+= A_matrix_one_component[j][i]\n",
        "    \n",
        "    if(not math.isclose(1.0, s)):\n",
        "      correct_component = False\n",
        "  \n",
        "  component_vertices = []\n",
        "  if(correct_component):\n",
        "    T_current = np.zeros((len(component), len(component)), dtype=float)\n",
        "    \n",
        "    stationary = find_stationary(A_matrix_one_component)\n",
        "\n",
        "    for m in range(len(component)):\n",
        "      component_vertices.append(get_vertice_by_serial_number(component[m]))\n",
        "      for n in range(len(component)):\n",
        "        T_current[m][n] = stationary[m]\n",
        "    T_list.append([component_vertices, T_current])\n",
        "  else:\n",
        "    B = np.eye(len(A_matrix_one_component)) - A_matrix_one_component\n",
        "    try:\n",
        "      T_current = A_matrix_one_component.dot(np.linalg.inv(B))\n",
        "    except np.linalg.LinAlgError as err:\n",
        "      print(err)\n",
        "      print(\"component = \", component)\n",
        "      print(\"A = \", A_matrix_one_component)\n",
        "      print(\"B = \", B)\n",
        "      continue\n",
        "    for m in range(len(T_current)):\n",
        "      component_vertices.append(get_vertice_by_serial_number(component[m]))\n",
        "      cur_col_sum = 0\n",
        "      \n",
        "      for n in range(len(T_current)):\n",
        "        cur_col_sum += T_current[n][m]\n",
        "      \n",
        "      if(cur_col_sum == 0):\n",
        "        print(\"component = \", component)\n",
        "      else:\n",
        "        for n in range(len(T_current)):\n",
        "          T_current[n][m] = T_current[n][m]/cur_col_sum\n",
        "\n",
        "    T_list.append([component_vertices, T_current])"
      ]
    },
    {
      "cell_type": "markdown",
      "metadata": {
        "id": "7OJ_0RM_hY0H",
        "pycharm": {
          "name": "#%% md\n"
        }
      },
      "source": [
        "# Creating an ancestor hash table for a given vertex"
      ]
    },
    {
      "cell_type": "code",
      "execution_count": null,
      "metadata": {
        "id": "slzo_P8CR8ox",
        "pycharm": {
          "name": "#%%\n"
        },
        "outputId": "34a2efbb-d304-4657-dae4-4390bfa9ff1d"
      },
      "outputs": [
        {
          "data": {
            "text/html": [
              "<pre>2.91 s (31/08/2022 05:22:11 ~ 31/08/2022 05:22:14)</pre>"
            ],
            "text/plain": [
              "<IPython.core.display.HTML object>"
            ]
          },
          "metadata": {},
          "output_type": "display_data"
        }
      ],
      "source": [
        "additional_graph = data.copy(deep=True)\n",
        "additional_graph.rename(columns = {'super_holder' : 'terminality'}, inplace = True)\n",
        "additional_graph = additional_graph.drop(columns = ['super_target'], axis = 1)\n",
        "additional_graph = additional_graph.set_index('organisation_inn')"
      ]
    },
    {
      "cell_type": "markdown",
      "metadata": {
        "id": "RP8e8uwcjfe3",
        "pycharm": {
          "name": "#%% md\n"
        }
      },
      "source": [
        "`ключ` - вершина, `значение` - список пар `(h, s)`, где `h` - владелец (holder), `s` - доля (share).\n",
        "\n",
        "*Первый элемент списка - вес вершины (конечная доля по отношению к рассматриваемой компании)*"
      ]
    },
    {
      "cell_type": "code",
      "execution_count": null,
      "metadata": {
        "id": "7utaQmj7UHpV",
        "pycharm": {
          "name": "#%%\n"
        },
        "outputId": "b0d323b1-47f7-4191-c105-5abaa1b1d9ee"
      },
      "outputs": [
        {
          "data": {
            "text/html": [
              "<pre>0 ns (31/08/2022 05:22:14 ~ 31/08/2022 05:22:14)</pre>"
            ],
            "text/plain": [
              "<IPython.core.display.HTML object>"
            ]
          },
          "metadata": {},
          "output_type": "display_data"
        }
      ],
      "source": [
        "suitable_vertices = dict()\n",
        "stack_vertices = []\n",
        "used_ancestors = set()\n",
        "\n",
        "def find_Z_by_company_inn(company_inn):\n",
        "  for i in range(len(T_list)):\n",
        "    for j in range(len(T_list[i][0])):\n",
        "      if(T_list[i][0][j] == company_inn):\n",
        "        return T_list[i], j\n",
        "\n",
        "def set_suitable_vertices(company_inn: str) -> bool:\n",
        "    st_time = time.monotonic()\n",
        "    suitable_vertices.clear()\n",
        "    stack_vertices.clear()\n",
        "    used_ancestors.clear()\n",
        "    if(len(data[data['organisation_inn'] == company_inn]) == 0 and not stack_vertices):\n",
        "        print(\"Without owners\")\n",
        "        return False\n",
        "    \n",
        "    while(True):\n",
        "      if(time.monotonic() - st_time > 60.0):\n",
        "        print(\"Вычисление хэш-таблицы более 60 секунд...\")\n",
        "        return False\n",
        "      if(len(data[data.organisation_inn == company_inn]) == 0):\n",
        "        suitable_vertices[company_inn] = [0] # for terminal vertices, the initial weight is 0\n",
        "        if(len(stack_vertices) == 0):\n",
        "            return True\n",
        "        company_inn = stack_vertices.pop()\n",
        "        used_ancestors.add(company_inn)\n",
        "        continue\n",
        "      \n",
        "      cur_Z = []\n",
        "      is_component_ancestors_need_added = True\n",
        "      is_company_in_strong_component = (company_inn in all_vertices_in_components_of_strong_connectivity)\n",
        "      \n",
        "      # if the company is in a strongly connected component,\n",
        "      # then we will find the ownership component, write it in 'cur_Z'\n",
        "      # no further actions will happen with 'cur_Z' if the company is not in the component        \n",
        "      \n",
        "      if(is_company_in_strong_component):\n",
        "        cur_Z, index_cur_company_in_Z = find_Z_by_company_inn(company_inn) \n",
        "\n",
        "      cur_data = additional_graph[additional_graph.index == company_inn]\n",
        "      noncomponent_ancestors = [0]\n",
        "      component_ancestors = [0]\n",
        "      ancestors = cur_data['participant_id'].values\n",
        "      \n",
        "      for ancestor in ancestors:\n",
        "        if(ancestor not in used_ancestors):\n",
        "          stack_vertices.append(ancestor)\n",
        "        cur_ancestor_inn = cur_data[cur_data['participant_id'] == ancestor].participant_id[0]\n",
        "        if(cur_ancestor_inn == None):\n",
        "            print(\"Error related to 'cur_ancestor_inn'\")\n",
        "            return False\n",
        "        cur_ancestor_share = cur_data[cur_data['participant_id'] == ancestor].equity_share[0]\n",
        "        if(is_company_in_strong_component):\n",
        "          if(ancestor in all_vertices_in_components_of_strong_connectivity):\n",
        "            # cur_company in component and ancestor in component\n",
        "            if(is_component_ancestors_need_added):\n",
        "              for j in range(len(cur_Z[0])):\n",
        "                cur_ancestor_inn = cur_Z[0][j]\n",
        "                cur_ancestor_share = cur_Z[1][j][index_cur_company_in_Z]\n",
        "                component_ancestors.append([cur_ancestor_inn+'L', cur_ancestor_share])\n",
        "              is_component_ancestors_need_added = False\n",
        "          else:\n",
        "            # cur_company in component, ancestor not in component\n",
        "            noncomponent_ancestors.append([cur_ancestor_inn, cur_ancestor_share])\n",
        "        else:\n",
        "          if(ancestor in all_vertices_in_components_of_strong_connectivity):\n",
        "            # cur_company not in component, ancestor in component\n",
        "            noncomponent_ancestors.append([cur_ancestor_inn+'R', cur_ancestor_share])\n",
        "          else:\n",
        "            # cur_company not in component, ancestor not in component\n",
        "            noncomponent_ancestors.append([cur_ancestor_inn, cur_ancestor_share])\n",
        "      \n",
        "      if(is_company_in_strong_component):\n",
        "        suitable_vertices[company_inn+'R'] = component_ancestors\n",
        "        suitable_vertices[company_inn+'L'] = noncomponent_ancestors\n",
        "      else:\n",
        "        suitable_vertices[company_inn] = noncomponent_ancestors\n",
        "\n",
        "      if(stack_vertices):\n",
        "        company_inn = stack_vertices.pop()\n",
        "        used_ancestors.add(company_inn)\n",
        "      else:\n",
        "        return True"
      ]
    },
    {
      "cell_type": "markdown",
      "metadata": {
        "id": "pK37jUiwMdvV",
        "pycharm": {
          "name": "#%% md\n"
        }
      },
      "source": [
        "# REQUEST"
      ]
    },
    {
      "cell_type": "code",
      "execution_count": null,
      "metadata": {
        "id": "u2it0kOfmA37",
        "pycharm": {
          "name": "#%%\n"
        },
        "outputId": "75c89ffe-747e-4ddf-c5ce-9a2ee23cd1dc"
      },
      "outputs": [
        {
          "data": {
            "text/html": [
              "<pre>36 s (31/08/2022 05:22:15 ~ 31/08/2022 05:22:51)</pre>"
            ],
            "text/plain": [
              "<IPython.core.display.HTML object>"
            ]
          },
          "metadata": {},
          "output_type": "display_data"
        },
        {
          "data": {
            "text/plain": [
              "True"
            ]
          },
          "execution_count": 639,
          "metadata": {},
          "output_type": "execute_result"
        }
      ],
      "source": [
        "requested_company = \"0714001578\"\n",
        "set_suitable_vertices(requested_company)"
      ]
    },
    {
      "cell_type": "markdown",
      "metadata": {
        "id": "U-csoclmoIFv",
        "pycharm": {
          "name": "#%% md\n"
        }
      },
      "source": [
        "для `левых вершин в двудольном графе`, у которых сумма входящих владений `< 1`, но `> 0` (то есть кто-то владеет, но не на 100%) -- строим дополнительную вершину без `L` или `R`"
      ]
    },
    {
      "cell_type": "code",
      "execution_count": null,
      "metadata": {
        "id": "QdEq1WC1qCCF",
        "pycharm": {
          "name": "#%%\n"
        },
        "outputId": "a4aacafa-2746-48c6-834d-41073867bbf1"
      },
      "outputs": [
        {
          "data": {
            "text/html": [
              "<pre>0 ns (31/08/2022 05:22:51 ~ 31/08/2022 05:22:51)</pre>"
            ],
            "text/plain": [
              "<IPython.core.display.HTML object>"
            ]
          },
          "metadata": {},
          "output_type": "display_data"
        }
      ],
      "source": [
        "def set_additional_vertex():\n",
        "  global suitable_vertices\n",
        "  suitable_vertices_copy = suitable_vertices.copy()\n",
        "  for k, v in suitable_vertices.items():\n",
        "    if(k[len(k)-1] == 'L'):\n",
        "      s = 0\n",
        "      for i in range(1, len(v)):\n",
        "        s += v[i][1]\n",
        "      if((not math.isclose(s, 1.0)) & (not math.isclose(s, 0))):\n",
        "        suitable_vertices_copy[k[:len(k)-1]] = [1]\n",
        "        tmp = v.copy()\n",
        "        tmp.append([k[:len(k)-1], round(1-round(s,7), 7)])\n",
        "        suitable_vertices_copy[k] = tmp\n",
        "  suitable_vertices = suitable_vertices_copy\n",
        "  \n",
        "set_additional_vertex()"
      ]
    },
    {
      "cell_type": "markdown",
      "metadata": {
        "id": "7YKU6R27om1l",
        "pycharm": {
          "name": "#%% md\n"
        }
      },
      "source": [
        "добавляем последним элементом списка `T`- вершина терминальна, `N` - вершина нетерминальна"
      ]
    },
    {
      "cell_type": "code",
      "execution_count": null,
      "metadata": {
        "id": "onjLBHlehq-5",
        "pycharm": {
          "name": "#%%\n"
        },
        "outputId": "eaf2caca-ff46-4e5d-bda9-12f46998a714"
      },
      "outputs": [
        {
          "data": {
            "text/html": [
              "<pre>0 ns (31/08/2022 05:22:51 ~ 31/08/2022 05:22:51)</pre>"
            ],
            "text/plain": [
              "<IPython.core.display.HTML object>"
            ]
          },
          "metadata": {},
          "output_type": "display_data"
        }
      ],
      "source": [
        "def get_vertex_without_RL(company_inn: str)->str:\n",
        "  if(company_inn[len(company_inn)-1] == 'R' or company_inn[len(company_inn)-1] == 'L'):\n",
        "    return str(company_inn[:len(company_inn)-1])\n",
        "  else:\n",
        "    return company_inn\n",
        "\n",
        "def set_terminality_to_table(company_inn: str):\n",
        "  global suitable_vertices\n",
        "  suitable_vertices_copy = suitable_vertices.copy()\n",
        "  for k, v in suitable_vertices.items():\n",
        "    s = 0\n",
        "    for i in range(1, len(v)):\n",
        "      s += v[i][1]\n",
        "    if(s == 0.0 and (k[len(k)-1] != 'R')):\n",
        "      v.append('T')\n",
        "      v[0] = 0\n",
        "    else:\n",
        "      v.append('N')\n",
        "      if(get_vertex_without_RL(k) == company_inn and (k[len(k)-1] != 'L')):\n",
        "        v[0] = 1\n",
        "      else:\n",
        "        v[0] = 0\n",
        "    # print(k, \" \", v)\n",
        "  suitable_vertices = suitable_vertices_copy\n",
        "    \n",
        "set_terminality_to_table(requested_company)"
      ]
    },
    {
      "cell_type": "markdown",
      "metadata": {
        "id": "vBWP_rbmlCRE",
        "pycharm": {
          "name": "#%% md\n"
        }
      },
      "source": [
        "# Algorithm for finding the correct weights for each ancestor vertex"
      ]
    },
    {
      "cell_type": "code",
      "execution_count": null,
      "metadata": {
        "id": "2KJdTh8ndJ-c",
        "pycharm": {
          "name": "#%%\n"
        },
        "outputId": "49641b3a-1606-4c23-c942-12bddb9de3f1"
      },
      "outputs": [
        {
          "data": {
            "text/html": [
              "<pre>0 ns (31/08/2022 05:22:52 ~ 31/08/2022 05:22:52)</pre>"
            ],
            "text/plain": [
              "<IPython.core.display.HTML object>"
            ]
          },
          "metadata": {},
          "output_type": "display_data"
        },
        {
          "name": "stdout",
          "output_type": "stream",
          "text": [
            "Ownership share in the company 0714001578:\n",
            "1. 0703008500 = 22.4747%\n",
            "2. 0703008395 = 22.4511%\n",
            "3. 0703008469 = 18.6050%\n",
            "4. 0703008490 = 11.4500%\n",
            "5. 0703008300 = 6.5610%\n",
            "6. 0703008772 = 6.2433%\n",
            "7. 0714001578 = 3.5928%\n",
            "8. 0703008370 = 3.3776%\n",
            "9. 0726000378 = 2.8737%\n",
            "10. 0726019001 = 2.3708%\n",
            "The total amount of ownership share is equal to 100.0%\n"
          ]
        },
        {
          "data": {
            "text/plain": [
              "True"
            ]
          },
          "execution_count": 643,
          "metadata": {},
          "output_type": "execute_result"
        }
      ],
      "source": [
        "from collections import deque\n",
        "\n",
        "queue_vertices = deque()\n",
        "final_owners = dict()\n",
        "\n",
        "def get_vertex_name_by_presence(company_inn: str) -> str:\n",
        "  if(suitable_vertices.get(company_inn+'R') == None):\n",
        "    # if not in the component\n",
        "    if(suitable_vertices.get(company_inn) != None):\n",
        "      # if not in the component, but there is such a vertex\n",
        "      return company_inn\n",
        "    else:\n",
        "      return \"\"\n",
        "  else:\n",
        "    # if in the component, then we will start the crawl from the RIGHT lobe\n",
        "      return company_inn+'R'\n",
        "\n",
        "def get_equity_share(company_inn: str) -> bool:\n",
        "  st_time = time.monotonic()\n",
        "  queue_vertices.clear()\n",
        "  final_owners.clear()\n",
        "  queue_vertices.append(get_vertex_name_by_presence(company_inn))\n",
        "  s = 0\n",
        "  while(queue_vertices):\n",
        "    if(time.monotonic() - st_time > 60.0):\n",
        "      print(\"Вычисление конечных владельцев более 60 секунд...\")\n",
        "      return False\n",
        "    cur_company = queue_vertices.pop()\n",
        "    company_info_dict = suitable_vertices.get(cur_company)\n",
        "\n",
        "    if(company_info_dict == None):\n",
        "      print(\"Couldn't find the entered company\")\n",
        "      return False\n",
        "\n",
        "    # company_info_dict[0] = vertex weight (ownership share)\n",
        "    # company_info_dict[1...len(company_info_dict)-2] = (owner, equity_share)\n",
        "    # company_info_dict[len(company_info_dict)-1] = terminality\n",
        "    for i in range(1, len(company_info_dict)-1):\n",
        "      cur_owner = company_info_dict[i][0]\n",
        "      cur_equity_share = company_info_dict[i][1]\n",
        "      owner_info_dict = suitable_vertices.get(cur_owner)\n",
        "      if(owner_info_dict == None):\n",
        "        print(f\"An error occurred with the owner search {cur_owner}\")\n",
        "        return False\n",
        "\n",
        "      owner_info_dict[0] = company_info_dict[0] * cur_equity_share\n",
        "      if(owner_info_dict[len(owner_info_dict)-1] == \"T\"):\n",
        "        s+= owner_info_dict[0]\n",
        "        cur_owner = get_vertex_without_RL(cur_owner)\n",
        "        if(cur_owner in final_owners):\n",
        "          # if we considered the path to this vertex, then we sum it up with the current weight\n",
        "          final_owners.update({cur_owner: owner_info_dict[0] + final_owners.get(cur_owner)})\n",
        "        else:\n",
        "          # if you met for the first time, then we set the ownership share\n",
        "          final_owners[cur_owner] = owner_info_dict[0]\n",
        "      else:\n",
        "        queue_vertices.append(cur_owner)\n",
        "  # presentation from the most important owners to the smaller ones\n",
        "  list_owners = list(final_owners.items())\n",
        "  list_owners.sort(key=lambda i: i[1])\n",
        "  list_owners.reverse()\n",
        "  owner_counter = 1\n",
        "  print(f\"Ownership share in the company {company_inn}:\")\n",
        "  for owner in list_owners:\n",
        "    print(f'{owner_counter}. {owner[0]} = {(owner[1]*100*(1.0/s)):.4f}%')\n",
        "    owner_counter+= 1\n",
        "  print(f\"The total amount of ownership share is equal to {(s*100*(1.0/s)):.9}%\")\n",
        "  return True\n",
        "\n",
        "get_equity_share(requested_company)"
      ]
    }
  ],
  "metadata": {
    "colab": {
      "collapsed_sections": [
        "RAhEFs6_Td79",
        "oVhr89C4T3Kc",
        "Y8MpRAXzUI4O",
        "fE0m0wE0a6ZL",
        "Bw6S7iXJahht"
      ],
      "provenance": [],
      "toc_visible": true,
      "include_colab_link": true
    },
    "kernelspec": {
      "display_name": "Python 3.10.4 64-bit",
      "language": "python",
      "name": "python3"
    },
    "language_info": {
      "codemirror_mode": {
        "name": "ipython",
        "version": 3
      },
      "file_extension": ".py",
      "mimetype": "text/x-python",
      "name": "python",
      "nbconvert_exporter": "python",
      "pygments_lexer": "ipython3",
      "version": "3.10.4"
    },
    "vscode": {
      "interpreter": {
        "hash": "cd33f47137b00f9a3c223ad7cd7ea8009173bfffa8c9627ff61bae578e5b56e2"
      }
    }
  },
  "nbformat": 4,
  "nbformat_minor": 0
}